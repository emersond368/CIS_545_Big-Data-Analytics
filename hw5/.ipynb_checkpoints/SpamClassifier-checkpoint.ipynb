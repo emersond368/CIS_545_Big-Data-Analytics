{
 "cells": [
  {
   "cell_type": "markdown",
   "metadata": {},
   "source": [
    "# Homework 5 Part I: Spam Classification in SciKit-Learn\n",
    "\n",
    "This assignment uses data from https://archive.ics.uci.edu/ml/datasets/SMS+Spam+Collection\n",
    "\n",
    "Data processing was inspired by https://www.kaggle.com/overflow012/d/uciml/sms-spam-collection-dataset/text-preprocessing-classification"
   ]
  },
  {
   "cell_type": "markdown",
   "metadata": {},
   "source": [
    "Before getting started, run this to upgrade SciKit-Learn from 0.17 to 0.18.1.  Then go to Kernel | Restart in Jupyter."
   ]
  },
  {
   "cell_type": "code",
   "execution_count": 1,
   "metadata": {
    "collapsed": false
   },
   "outputs": [
    {
     "name": "stdout",
     "output_type": "stream",
     "text": [
      "Requirement already up-to-date: scikit-learn in /Users/nintendo/cis700/lib/python3.5/site-packages\r\n"
     ]
    }
   ],
   "source": [
    "! pip install -U scikit-learn"
   ]
  },
  {
   "cell_type": "code",
   "execution_count": 76,
   "metadata": {
    "collapsed": true
   },
   "outputs": [],
   "source": [
    "import pandas as pd\n",
    "\n",
    "####\n",
    "# Helper function:\n",
    "#  Return the k most frequently appearing keywords in the dataframe\n",
    "def top_k(data_df, vec, k):\n",
    "    X = vec.fit_transform(data_df['sms'].values)\n",
    "    labels = vec.get_feature_names()\n",
    "    \n",
    "    return pd.DataFrame(columns = labels, data = X.toarray()).sum().sort_values(ascending = False)[:k]\n",
    "\n",
    "\n",
    "\n",
    "sms_df = pd.read_csv('spam.csv', encoding='latin-1')\n",
    "sms_df.columns = ['class', 'sms', 'a', 'b', 'c']\n"
   ]
  },
  {
   "cell_type": "markdown",
   "metadata": {},
   "source": [
    "## Step 1.1 Data Wrangling\n",
    "\n",
    "Clean up sms_df.  Delete 'a', 'b', 'c', lowercase the sms text"
   ]
  },
  {
   "cell_type": "code",
   "execution_count": 77,
   "metadata": {
    "collapsed": false
   },
   "outputs": [],
   "source": [
    "## Data wrangling / cleaning\n",
    "sms_df = sms_df.drop(['a', 'b', 'c'], axis=1)\n",
    "sms_df = sms_df.apply(lambda x: x.astype(str).str.lower())"
   ]
  },
  {
   "cell_type": "markdown",
   "metadata": {},
   "source": [
    "### Step 1.1 Results"
   ]
  },
  {
   "cell_type": "code",
   "execution_count": 78,
   "metadata": {
    "collapsed": false
   },
   "outputs": [
    {
     "data": {
      "text/html": [
       "<div>\n",
       "<table border=\"1\" class=\"dataframe\">\n",
       "  <thead>\n",
       "    <tr style=\"text-align: right;\">\n",
       "      <th></th>\n",
       "      <th>class</th>\n",
       "      <th>sms</th>\n",
       "    </tr>\n",
       "  </thead>\n",
       "  <tbody>\n",
       "    <tr>\n",
       "      <th>0</th>\n",
       "      <td>ham</td>\n",
       "      <td>go until jurong point, crazy.. available only ...</td>\n",
       "    </tr>\n",
       "    <tr>\n",
       "      <th>1</th>\n",
       "      <td>ham</td>\n",
       "      <td>ok lar... joking wif u oni...</td>\n",
       "    </tr>\n",
       "    <tr>\n",
       "      <th>2</th>\n",
       "      <td>spam</td>\n",
       "      <td>free entry in 2 a wkly comp to win fa cup fina...</td>\n",
       "    </tr>\n",
       "    <tr>\n",
       "      <th>3</th>\n",
       "      <td>ham</td>\n",
       "      <td>u dun say so early hor... u c already then say...</td>\n",
       "    </tr>\n",
       "    <tr>\n",
       "      <th>4</th>\n",
       "      <td>ham</td>\n",
       "      <td>nah i don't think he goes to usf, he lives aro...</td>\n",
       "    </tr>\n",
       "    <tr>\n",
       "      <th>5</th>\n",
       "      <td>spam</td>\n",
       "      <td>freemsg hey there darling it's been 3 week's n...</td>\n",
       "    </tr>\n",
       "    <tr>\n",
       "      <th>6</th>\n",
       "      <td>ham</td>\n",
       "      <td>even my brother is not like to speak with me. ...</td>\n",
       "    </tr>\n",
       "    <tr>\n",
       "      <th>7</th>\n",
       "      <td>ham</td>\n",
       "      <td>as per your request 'melle melle (oru minnamin...</td>\n",
       "    </tr>\n",
       "    <tr>\n",
       "      <th>8</th>\n",
       "      <td>spam</td>\n",
       "      <td>winner!! as a valued network customer you have...</td>\n",
       "    </tr>\n",
       "    <tr>\n",
       "      <th>9</th>\n",
       "      <td>spam</td>\n",
       "      <td>had your mobile 11 months or more? u r entitle...</td>\n",
       "    </tr>\n",
       "    <tr>\n",
       "      <th>10</th>\n",
       "      <td>ham</td>\n",
       "      <td>i'm gonna be home soon and i don't want to tal...</td>\n",
       "    </tr>\n",
       "    <tr>\n",
       "      <th>11</th>\n",
       "      <td>spam</td>\n",
       "      <td>six chances to win cash! from 100 to 20,000 po...</td>\n",
       "    </tr>\n",
       "    <tr>\n",
       "      <th>12</th>\n",
       "      <td>spam</td>\n",
       "      <td>urgent! you have won a 1 week free membership ...</td>\n",
       "    </tr>\n",
       "    <tr>\n",
       "      <th>13</th>\n",
       "      <td>ham</td>\n",
       "      <td>i've been searching for the right words to tha...</td>\n",
       "    </tr>\n",
       "    <tr>\n",
       "      <th>14</th>\n",
       "      <td>ham</td>\n",
       "      <td>i have a date on sunday with will!!</td>\n",
       "    </tr>\n",
       "    <tr>\n",
       "      <th>15</th>\n",
       "      <td>spam</td>\n",
       "      <td>xxxmobilemovieclub: to use your credit, click ...</td>\n",
       "    </tr>\n",
       "    <tr>\n",
       "      <th>16</th>\n",
       "      <td>ham</td>\n",
       "      <td>oh k...i'm watching here:)</td>\n",
       "    </tr>\n",
       "    <tr>\n",
       "      <th>17</th>\n",
       "      <td>ham</td>\n",
       "      <td>eh u remember how 2 spell his name... yes i di...</td>\n",
       "    </tr>\n",
       "    <tr>\n",
       "      <th>18</th>\n",
       "      <td>ham</td>\n",
       "      <td>fine if thatåõs the way u feel. thatåõs the wa...</td>\n",
       "    </tr>\n",
       "    <tr>\n",
       "      <th>19</th>\n",
       "      <td>spam</td>\n",
       "      <td>england v macedonia - dont miss the goals/team...</td>\n",
       "    </tr>\n",
       "    <tr>\n",
       "      <th>20</th>\n",
       "      <td>ham</td>\n",
       "      <td>is that seriously how you spell his name?</td>\n",
       "    </tr>\n",
       "    <tr>\n",
       "      <th>21</th>\n",
       "      <td>ham</td>\n",
       "      <td>iû÷m going to try for 2 months ha ha only joking</td>\n",
       "    </tr>\n",
       "    <tr>\n",
       "      <th>22</th>\n",
       "      <td>ham</td>\n",
       "      <td>so ì_ pay first lar... then when is da stock c...</td>\n",
       "    </tr>\n",
       "    <tr>\n",
       "      <th>23</th>\n",
       "      <td>ham</td>\n",
       "      <td>aft i finish my lunch then i go str down lor. ...</td>\n",
       "    </tr>\n",
       "    <tr>\n",
       "      <th>24</th>\n",
       "      <td>ham</td>\n",
       "      <td>ffffffffff. alright no way i can meet up with ...</td>\n",
       "    </tr>\n",
       "    <tr>\n",
       "      <th>25</th>\n",
       "      <td>ham</td>\n",
       "      <td>just forced myself to eat a slice. i'm really ...</td>\n",
       "    </tr>\n",
       "    <tr>\n",
       "      <th>26</th>\n",
       "      <td>ham</td>\n",
       "      <td>lol your always so convincing.</td>\n",
       "    </tr>\n",
       "    <tr>\n",
       "      <th>27</th>\n",
       "      <td>ham</td>\n",
       "      <td>did you catch the bus ? are you frying an egg ...</td>\n",
       "    </tr>\n",
       "    <tr>\n",
       "      <th>28</th>\n",
       "      <td>ham</td>\n",
       "      <td>i'm back &amp;amp; we're packing the car now, i'll...</td>\n",
       "    </tr>\n",
       "    <tr>\n",
       "      <th>29</th>\n",
       "      <td>ham</td>\n",
       "      <td>ahhh. work. i vaguely remember that! what does...</td>\n",
       "    </tr>\n",
       "    <tr>\n",
       "      <th>...</th>\n",
       "      <td>...</td>\n",
       "      <td>...</td>\n",
       "    </tr>\n",
       "    <tr>\n",
       "      <th>5542</th>\n",
       "      <td>ham</td>\n",
       "      <td>armand says get your ass over to epsilon</td>\n",
       "    </tr>\n",
       "    <tr>\n",
       "      <th>5543</th>\n",
       "      <td>ham</td>\n",
       "      <td>u still havent got urself a jacket ah?</td>\n",
       "    </tr>\n",
       "    <tr>\n",
       "      <th>5544</th>\n",
       "      <td>ham</td>\n",
       "      <td>i'm taking derek &amp;amp; taylor to walmart, if i...</td>\n",
       "    </tr>\n",
       "    <tr>\n",
       "      <th>5545</th>\n",
       "      <td>ham</td>\n",
       "      <td>hi its in durban are you still on this number</td>\n",
       "    </tr>\n",
       "    <tr>\n",
       "      <th>5546</th>\n",
       "      <td>ham</td>\n",
       "      <td>ic. there are a lotta childporn cars then.</td>\n",
       "    </tr>\n",
       "    <tr>\n",
       "      <th>5547</th>\n",
       "      <td>spam</td>\n",
       "      <td>had your contract mobile 11 mnths? latest moto...</td>\n",
       "    </tr>\n",
       "    <tr>\n",
       "      <th>5548</th>\n",
       "      <td>ham</td>\n",
       "      <td>no, i was trying it all weekend ;v</td>\n",
       "    </tr>\n",
       "    <tr>\n",
       "      <th>5549</th>\n",
       "      <td>ham</td>\n",
       "      <td>you know, wot people wear. t shirts, jumpers, ...</td>\n",
       "    </tr>\n",
       "    <tr>\n",
       "      <th>5550</th>\n",
       "      <td>ham</td>\n",
       "      <td>cool, what time you think you can get here?</td>\n",
       "    </tr>\n",
       "    <tr>\n",
       "      <th>5551</th>\n",
       "      <td>ham</td>\n",
       "      <td>wen did you get so spiritual and deep. that's ...</td>\n",
       "    </tr>\n",
       "    <tr>\n",
       "      <th>5552</th>\n",
       "      <td>ham</td>\n",
       "      <td>have a safe trip to nigeria. wish you happines...</td>\n",
       "    </tr>\n",
       "    <tr>\n",
       "      <th>5553</th>\n",
       "      <td>ham</td>\n",
       "      <td>hahaha..use your brain dear</td>\n",
       "    </tr>\n",
       "    <tr>\n",
       "      <th>5554</th>\n",
       "      <td>ham</td>\n",
       "      <td>well keep in mind i've only got enough gas for...</td>\n",
       "    </tr>\n",
       "    <tr>\n",
       "      <th>5555</th>\n",
       "      <td>ham</td>\n",
       "      <td>yeh. indians was nice. tho it did kane me off ...</td>\n",
       "    </tr>\n",
       "    <tr>\n",
       "      <th>5556</th>\n",
       "      <td>ham</td>\n",
       "      <td>yes i have. so that's why u texted. pshew...mi...</td>\n",
       "    </tr>\n",
       "    <tr>\n",
       "      <th>5557</th>\n",
       "      <td>ham</td>\n",
       "      <td>no. i meant the calculation is the same. that ...</td>\n",
       "    </tr>\n",
       "    <tr>\n",
       "      <th>5558</th>\n",
       "      <td>ham</td>\n",
       "      <td>sorry, i'll call later</td>\n",
       "    </tr>\n",
       "    <tr>\n",
       "      <th>5559</th>\n",
       "      <td>ham</td>\n",
       "      <td>if you aren't here in the next  &amp;lt;#&amp;gt;  hou...</td>\n",
       "    </tr>\n",
       "    <tr>\n",
       "      <th>5560</th>\n",
       "      <td>ham</td>\n",
       "      <td>anything lor. juz both of us lor.</td>\n",
       "    </tr>\n",
       "    <tr>\n",
       "      <th>5561</th>\n",
       "      <td>ham</td>\n",
       "      <td>get me out of this dump heap. my mom decided t...</td>\n",
       "    </tr>\n",
       "    <tr>\n",
       "      <th>5562</th>\n",
       "      <td>ham</td>\n",
       "      <td>ok lor... sony ericsson salesman... i ask shuh...</td>\n",
       "    </tr>\n",
       "    <tr>\n",
       "      <th>5563</th>\n",
       "      <td>ham</td>\n",
       "      <td>ard 6 like dat lor.</td>\n",
       "    </tr>\n",
       "    <tr>\n",
       "      <th>5564</th>\n",
       "      <td>ham</td>\n",
       "      <td>why don't you wait 'til at least wednesday to ...</td>\n",
       "    </tr>\n",
       "    <tr>\n",
       "      <th>5565</th>\n",
       "      <td>ham</td>\n",
       "      <td>huh y lei...</td>\n",
       "    </tr>\n",
       "    <tr>\n",
       "      <th>5566</th>\n",
       "      <td>spam</td>\n",
       "      <td>reminder from o2: to get 2.50 pounds free call...</td>\n",
       "    </tr>\n",
       "    <tr>\n",
       "      <th>5567</th>\n",
       "      <td>spam</td>\n",
       "      <td>this is the 2nd time we have tried 2 contact u...</td>\n",
       "    </tr>\n",
       "    <tr>\n",
       "      <th>5568</th>\n",
       "      <td>ham</td>\n",
       "      <td>will ì_ b going to esplanade fr home?</td>\n",
       "    </tr>\n",
       "    <tr>\n",
       "      <th>5569</th>\n",
       "      <td>ham</td>\n",
       "      <td>pity, * was in mood for that. so...any other s...</td>\n",
       "    </tr>\n",
       "    <tr>\n",
       "      <th>5570</th>\n",
       "      <td>ham</td>\n",
       "      <td>the guy did some bitching but i acted like i'd...</td>\n",
       "    </tr>\n",
       "    <tr>\n",
       "      <th>5571</th>\n",
       "      <td>ham</td>\n",
       "      <td>rofl. its true to its name</td>\n",
       "    </tr>\n",
       "  </tbody>\n",
       "</table>\n",
       "<p>5572 rows × 2 columns</p>\n",
       "</div>"
      ],
      "text/plain": [
       "     class                                                sms\n",
       "0      ham  go until jurong point, crazy.. available only ...\n",
       "1      ham                      ok lar... joking wif u oni...\n",
       "2     spam  free entry in 2 a wkly comp to win fa cup fina...\n",
       "3      ham  u dun say so early hor... u c already then say...\n",
       "4      ham  nah i don't think he goes to usf, he lives aro...\n",
       "5     spam  freemsg hey there darling it's been 3 week's n...\n",
       "6      ham  even my brother is not like to speak with me. ...\n",
       "7      ham  as per your request 'melle melle (oru minnamin...\n",
       "8     spam  winner!! as a valued network customer you have...\n",
       "9     spam  had your mobile 11 months or more? u r entitle...\n",
       "10     ham  i'm gonna be home soon and i don't want to tal...\n",
       "11    spam  six chances to win cash! from 100 to 20,000 po...\n",
       "12    spam  urgent! you have won a 1 week free membership ...\n",
       "13     ham  i've been searching for the right words to tha...\n",
       "14     ham                i have a date on sunday with will!!\n",
       "15    spam  xxxmobilemovieclub: to use your credit, click ...\n",
       "16     ham                         oh k...i'm watching here:)\n",
       "17     ham  eh u remember how 2 spell his name... yes i di...\n",
       "18     ham  fine if thatåõs the way u feel. thatåõs the wa...\n",
       "19    spam  england v macedonia - dont miss the goals/team...\n",
       "20     ham          is that seriously how you spell his name?\n",
       "21     ham  iû÷m going to try for 2 months ha ha only joking\n",
       "22     ham  so ì_ pay first lar... then when is da stock c...\n",
       "23     ham  aft i finish my lunch then i go str down lor. ...\n",
       "24     ham  ffffffffff. alright no way i can meet up with ...\n",
       "25     ham  just forced myself to eat a slice. i'm really ...\n",
       "26     ham                     lol your always so convincing.\n",
       "27     ham  did you catch the bus ? are you frying an egg ...\n",
       "28     ham  i'm back &amp; we're packing the car now, i'll...\n",
       "29     ham  ahhh. work. i vaguely remember that! what does...\n",
       "...    ...                                                ...\n",
       "5542   ham           armand says get your ass over to epsilon\n",
       "5543   ham             u still havent got urself a jacket ah?\n",
       "5544   ham  i'm taking derek &amp; taylor to walmart, if i...\n",
       "5545   ham      hi its in durban are you still on this number\n",
       "5546   ham         ic. there are a lotta childporn cars then.\n",
       "5547  spam  had your contract mobile 11 mnths? latest moto...\n",
       "5548   ham                 no, i was trying it all weekend ;v\n",
       "5549   ham  you know, wot people wear. t shirts, jumpers, ...\n",
       "5550   ham        cool, what time you think you can get here?\n",
       "5551   ham  wen did you get so spiritual and deep. that's ...\n",
       "5552   ham  have a safe trip to nigeria. wish you happines...\n",
       "5553   ham                        hahaha..use your brain dear\n",
       "5554   ham  well keep in mind i've only got enough gas for...\n",
       "5555   ham  yeh. indians was nice. tho it did kane me off ...\n",
       "5556   ham  yes i have. so that's why u texted. pshew...mi...\n",
       "5557   ham  no. i meant the calculation is the same. that ...\n",
       "5558   ham                             sorry, i'll call later\n",
       "5559   ham  if you aren't here in the next  &lt;#&gt;  hou...\n",
       "5560   ham                  anything lor. juz both of us lor.\n",
       "5561   ham  get me out of this dump heap. my mom decided t...\n",
       "5562   ham  ok lor... sony ericsson salesman... i ask shuh...\n",
       "5563   ham                                ard 6 like dat lor.\n",
       "5564   ham  why don't you wait 'til at least wednesday to ...\n",
       "5565   ham                                       huh y lei...\n",
       "5566  spam  reminder from o2: to get 2.50 pounds free call...\n",
       "5567  spam  this is the 2nd time we have tried 2 contact u...\n",
       "5568   ham              will ì_ b going to esplanade fr home?\n",
       "5569   ham  pity, * was in mood for that. so...any other s...\n",
       "5570   ham  the guy did some bitching but i acted like i'd...\n",
       "5571   ham                         rofl. its true to its name\n",
       "\n",
       "[5572 rows x 2 columns]"
      ]
     },
     "execution_count": 78,
     "metadata": {},
     "output_type": "execute_result"
    }
   ],
   "source": [
    "sms_df"
   ]
  },
  {
   "cell_type": "code",
   "execution_count": 79,
   "metadata": {
    "collapsed": false
   },
   "outputs": [
    {
     "data": {
      "text/html": [
       "<div>\n",
       "<table border=\"1\" class=\"dataframe\">\n",
       "  <thead>\n",
       "    <tr style=\"text-align: right;\">\n",
       "      <th></th>\n",
       "      <th></th>\n",
       "      <th>sms</th>\n",
       "    </tr>\n",
       "    <tr>\n",
       "      <th>class</th>\n",
       "      <th></th>\n",
       "      <th></th>\n",
       "    </tr>\n",
       "  </thead>\n",
       "  <tbody>\n",
       "    <tr>\n",
       "      <th rowspan=\"4\" valign=\"top\">ham</th>\n",
       "      <th>count</th>\n",
       "      <td>4825</td>\n",
       "    </tr>\n",
       "    <tr>\n",
       "      <th>unique</th>\n",
       "      <td>4515</td>\n",
       "    </tr>\n",
       "    <tr>\n",
       "      <th>top</th>\n",
       "      <td>sorry, i'll call later</td>\n",
       "    </tr>\n",
       "    <tr>\n",
       "      <th>freq</th>\n",
       "      <td>30</td>\n",
       "    </tr>\n",
       "    <tr>\n",
       "      <th rowspan=\"4\" valign=\"top\">spam</th>\n",
       "      <th>count</th>\n",
       "      <td>747</td>\n",
       "    </tr>\n",
       "    <tr>\n",
       "      <th>unique</th>\n",
       "      <td>653</td>\n",
       "    </tr>\n",
       "    <tr>\n",
       "      <th>top</th>\n",
       "      <td>please call our customer service representativ...</td>\n",
       "    </tr>\n",
       "    <tr>\n",
       "      <th>freq</th>\n",
       "      <td>4</td>\n",
       "    </tr>\n",
       "  </tbody>\n",
       "</table>\n",
       "</div>"
      ],
      "text/plain": [
       "                                                            sms\n",
       "class                                                          \n",
       "ham   count                                                4825\n",
       "      unique                                               4515\n",
       "      top                                sorry, i'll call later\n",
       "      freq                                                   30\n",
       "spam  count                                                 747\n",
       "      unique                                                653\n",
       "      top     please call our customer service representativ...\n",
       "      freq                                                    4"
      ]
     },
     "execution_count": 79,
     "metadata": {},
     "output_type": "execute_result"
    }
   ],
   "source": [
    "sms_df.groupby('class').describe()"
   ]
  },
  {
   "cell_type": "markdown",
   "metadata": {},
   "source": [
    "## Step 1.2. Vectorizing the Text"
   ]
  },
  {
   "cell_type": "code",
   "execution_count": 80,
   "metadata": {
    "collapsed": false
   },
   "outputs": [],
   "source": [
    "from sklearn.feature_extraction.text import CountVectorizer\n",
    "my_vec = CountVectorizer(decode_error = 'ignore', stop_words = 'english')\n",
    "X = my_vec.fit_transform(sms_df['sms'].values)"
   ]
  },
  {
   "cell_type": "markdown",
   "metadata": {},
   "source": [
    "## Let's see the most frequent terms in spam"
   ]
  },
  {
   "cell_type": "code",
   "execution_count": 81,
   "metadata": {
    "collapsed": false
   },
   "outputs": [
    {
     "data": {
      "text/plain": [
       "free          224\n",
       "txt           163\n",
       "ur            144\n",
       "mobile        127\n",
       "text          125\n",
       "stop          121\n",
       "claim         113\n",
       "reply         104\n",
       "www            98\n",
       "prize          93\n",
       "just           78\n",
       "cash           76\n",
       "won            76\n",
       "uk             74\n",
       "150p           71\n",
       "send           70\n",
       "new            69\n",
       "nokia          67\n",
       "win            64\n",
       "urgent         63\n",
       "tone           60\n",
       "week           60\n",
       "50             57\n",
       "contact        56\n",
       "service        56\n",
       "msg            54\n",
       "com            54\n",
       "18             51\n",
       "16             51\n",
       "guaranteed     50\n",
       "dtype: int64"
      ]
     },
     "execution_count": 81,
     "metadata": {},
     "output_type": "execute_result"
    }
   ],
   "source": [
    "top_spam = top_k(sms_df[sms_df['class'] == 'spam'], my_vec, 30)\n",
    "\n",
    "top_spam"
   ]
  },
  {
   "cell_type": "markdown",
   "metadata": {},
   "source": [
    "## Vs ham..."
   ]
  },
  {
   "cell_type": "code",
   "execution_count": 82,
   "metadata": {
    "collapsed": false
   },
   "outputs": [
    {
     "data": {
      "text/plain": [
       "gt       318\n",
       "lt       316\n",
       "just     293\n",
       "ok       287\n",
       "ll       265\n",
       "ur       241\n",
       "know     236\n",
       "good     233\n",
       "got      232\n",
       "like     232\n",
       "come     227\n",
       "day      209\n",
       "time     201\n",
       "love     199\n",
       "going    169\n",
       "home     165\n",
       "want     164\n",
       "lor      162\n",
       "need     158\n",
       "sorry    157\n",
       "don      151\n",
       "da       150\n",
       "today    139\n",
       "later    135\n",
       "dont     132\n",
       "did      129\n",
       "send     129\n",
       "think    128\n",
       "pls      123\n",
       "hi       122\n",
       "dtype: int64"
      ]
     },
     "execution_count": 82,
     "metadata": {},
     "output_type": "execute_result"
    }
   ],
   "source": [
    "top_ham = top_k(sms_df[sms_df['class'] == 'ham'], my_vec, 30)\n",
    "\n",
    "top_ham"
   ]
  },
  {
   "cell_type": "markdown",
   "metadata": {},
   "source": [
    "## Step 1.2.2 Regularize URLs and Numbers\n",
    "\n",
    "Import _regularize_ here, and use *regularize_urls* and *regularize_numbers*\n",
    "on the columns."
   ]
  },
  {
   "cell_type": "code",
   "execution_count": 83,
   "metadata": {
    "collapsed": false
   },
   "outputs": [
    {
     "data": {
      "text/plain": [
       "0       go until jurong point, crazy.. available only ...\n",
       "1                           ok lar... joking wif u oni...\n",
       "2       free entry in  _num_  a wkly comp to win fa cu...\n",
       "3       u dun say so early hor... u c already then say...\n",
       "4       nah i don't think he goes to usf, he lives aro...\n",
       "5       freemsg hey there darling it's been  _num_  we...\n",
       "6       even my brother is not like to speak with me. ...\n",
       "7       as per your request 'melle melle (oru minnamin...\n",
       "8       winner!! as a valued network customer you have...\n",
       "9       had your mobile  _num_  months or more? u r en...\n",
       "10      i'm gonna be home soon and i don't want to tal...\n",
       "11      six chances to win cash! from  _num_  to  _num...\n",
       "12      urgent! you have won a  _num_  week free membe...\n",
       "13      i've been searching for the right words to tha...\n",
       "14                    i have a date on sunday with will!!\n",
       "15      xxxmobilemovieclub: to use your credit, click ...\n",
       "16                             oh k...i'm watching here:)\n",
       "17      eh u remember how  _num_  spell his name... ye...\n",
       "18      fine if thatåõs the way u feel. thatåõs the wa...\n",
       "19      england v macedonia - dont miss the goals/team...\n",
       "20              is that seriously how you spell his name?\n",
       "21      iû÷m going to try for  _num_  months ha ha on...\n",
       "22      so ì_ pay first lar... then when is da stock c...\n",
       "23      aft i finish my lunch then i go str down lor. ...\n",
       "24      ffffffffff. alright no way i can meet up with ...\n",
       "25      just forced myself to eat a slice. i'm really ...\n",
       "26                         lol your always so convincing.\n",
       "27      did you catch the bus ? are you frying an egg ...\n",
       "28      i'm back &amp; we're packing the car now, i'll...\n",
       "29      ahhh. work. i vaguely remember that! what does...\n",
       "                              ...                        \n",
       "5542             armand says get your ass over to epsilon\n",
       "5543               u still havent got urself a jacket ah?\n",
       "5544    i'm taking derek &amp; taylor to walmart, if i...\n",
       "5545        hi its in durban are you still on this number\n",
       "5546           ic. there are a lotta childporn cars then.\n",
       "5547    had your contract mobile  _num_  mnths? latest...\n",
       "5548                   no, i was trying it all weekend ;v\n",
       "5549    you know, wot people wear. t shirts, jumpers, ...\n",
       "5550          cool, what time you think you can get here?\n",
       "5551    wen did you get so spiritual and deep. that's ...\n",
       "5552    have a safe trip to nigeria. wish you happines...\n",
       "5553                          hahaha..use your brain dear\n",
       "5554    well keep in mind i've only got enough gas for...\n",
       "5555    yeh. indians was nice. tho it did kane me off ...\n",
       "5556    yes i have. so that's why u texted. pshew...mi...\n",
       "5557    no. i meant the calculation is the same. that ...\n",
       "5558                               sorry, i'll call later\n",
       "5559    if you aren't here in the next  &lt;#&gt;  hou...\n",
       "5560                    anything lor. juz both of us lor.\n",
       "5561    get me out of this dump heap. my mom decided t...\n",
       "5562    ok lor... sony ericsson salesman... i ask shuh...\n",
       "5563                            ard  _num_  like dat lor.\n",
       "5564    why don't you wait 'til at least wednesday to ...\n",
       "5565                                         huh y lei...\n",
       "5566    reminder from o _num_ : to get  _num_ . _num_ ...\n",
       "5567    this is the  _num_ nd time we have tried  _num...\n",
       "5568                will ì_ b going to esplanade fr home?\n",
       "5569    pity, * was in mood for that. so...any other s...\n",
       "5570    the guy did some bitching but i acted like i'd...\n",
       "5571                           rofl. its true to its name\n",
       "Name: sms, dtype: object"
      ]
     },
     "execution_count": 83,
     "metadata": {},
     "output_type": "execute_result"
    }
   ],
   "source": [
    "# Regularize/tokenize URLs and numbers\n",
    "from regularize import regularize_urls\n",
    "from regularize import regularize_numbers\n",
    "sms_df['sms'] = regularize_numbers(sms_df['sms'])\n",
    "sms_df['sms'] = regularize_urls(sms_df['sms'])\n",
    "sms_df['sms']"
   ]
  },
  {
   "cell_type": "markdown",
   "metadata": {},
   "source": [
    "## Step 1.2.2 Results\n",
    "\n",
    "Re-run the CountVectorizer, re-create vector X, and re-compute the top-30 spam terms.  Output the top-30 spam terms."
   ]
  },
  {
   "cell_type": "code",
   "execution_count": 213,
   "metadata": {
    "collapsed": false
   },
   "outputs": [
    {
     "data": {
      "text/plain": [
       "_num_         3324\n",
       "free           228\n",
       "txt            170\n",
       "ur             144\n",
       "_url_          139\n",
       "mobile         129\n",
       "stop           126\n",
       "text           125\n",
       "claim          113\n",
       "reply          104\n",
       "prize           92\n",
       "just            78\n",
       "cash            76\n",
       "won             76\n",
       "win             72\n",
       "nokia           71\n",
       "send            70\n",
       "new             69\n",
       "urgent          63\n",
       "week            60\n",
       "tone            59\n",
       "box             57\n",
       "contact         56\n",
       "service         56\n",
       "msg             56\n",
       "guaranteed      50\n",
       "ppm             49\n",
       "customer        49\n",
       "mins            47\n",
       "phone           46\n",
       "dtype: int64"
      ]
     },
     "execution_count": 213,
     "metadata": {},
     "output_type": "execute_result"
    }
   ],
   "source": [
    "# Top-30 spam terms\n",
    "from sklearn.feature_extraction.text import CountVectorizer\n",
    "my_vec = CountVectorizer(decode_error = 'ignore', stop_words = 'english')\n",
    "X = my_vec.fit_transform(sms_df['sms'].values)\n",
    "\n",
    "top_ham = top_k(sms_df[sms_df['class'] == 'ham'], my_vec, 30)\n",
    "top_spam = top_k(sms_df[sms_df['class'] == 'spam'], my_vec, 30)\n",
    "\n",
    "top_spam"
   ]
  },
  {
   "cell_type": "markdown",
   "metadata": {},
   "source": [
    "## Step 1.3 Creating Features\n",
    "\n",
    "Take the top-30 spam + top-30 ham words, and create a new CountVectorizer,\n",
    "called *relevant_vec*, which _only_ includes those words.\n",
    "See http://scikit-learn.org/stable/modules/generated/sklearn.feature_extraction.text.CountVectorizer.html."
   ]
  },
  {
   "cell_type": "code",
   "execution_count": 214,
   "metadata": {
    "collapsed": false
   },
   "outputs": [
    {
     "data": {
      "text/plain": [
       "array([[0, 0, 0, ..., 0, 0, 0],\n",
       "       [0, 0, 0, ..., 0, 0, 0],\n",
       "       [0, 0, 0, ..., 0, 0, 0],\n",
       "       ..., \n",
       "       [0, 0, 0, ..., 0, 0, 0],\n",
       "       [0, 0, 0, ..., 0, 0, 0],\n",
       "       [0, 0, 0, ..., 0, 0, 0]])"
      ]
     },
     "execution_count": 214,
     "metadata": {},
     "output_type": "execute_result"
    }
   ],
   "source": [
    "# Vector of 'important' words\n",
    "#relevant_vec = CountVectorizer(input = top_ham + top_spam,decode_error = 'ignore', stop_words = 'english')\n",
    "top_ham_vocab = list(top_ham.keys())\n",
    "top_spam_vocab = list(top_spam.keys())\n",
    "total_top_vocab = list(set(top_ham_vocab + top_spam_vocab))\n",
    "relevant_vec = CountVectorizer(vocabulary = total_top_vocab,decode_error = 'ignore', stop_words = 'english')\n",
    "X = relevant_vec.fit_transform(sms_df['sms'].values).toarray()\n",
    "X"
   ]
  },
  {
   "cell_type": "code",
   "execution_count": 218,
   "metadata": {
    "collapsed": false
   },
   "outputs": [
    {
     "data": {
      "text/plain": [
       "array([[ 0.        ,  0.        ,  0.        , ...,  0.        ,\n",
       "         0.        ,  0.03183315],\n",
       "       [ 0.        ,  0.        ,  0.        , ...,  0.        ,\n",
       "         0.        ,  0.1701427 ],\n",
       "       [ 0.        ,  0.        ,  0.        , ...,  0.        ,\n",
       "         0.        ,  0.05598244],\n",
       "       ..., \n",
       "       [ 0.        ,  0.        ,  0.        , ...,  0.        ,\n",
       "         0.        ,  0.04829857],\n",
       "       [ 0.        ,  0.        ,  0.        , ...,  0.        ,\n",
       "         0.        ,  0.1481888 ],\n",
       "       [ 0.        ,  0.        ,  0.        , ...,  0.        ,\n",
       "         0.        ,  0.09110867]])"
      ]
     },
     "execution_count": 218,
     "metadata": {},
     "output_type": "execute_result"
    }
   ],
   "source": [
    "import sklearn.model_selection as ms\n",
    "from sklearn.feature_extraction.text import TfidfTransformer\n",
    "import numpy as np\n",
    "\n",
    "# X is the feature array, based off relevant words\n",
    "X = relevant_vec.fit_transform(sms_df['sms'].values).toarray()\n",
    "\n",
    "# Compute the length of each sms message, normalized\n",
    "# by max length\n",
    "Xlen = np.zeros((X.shape[0],1))\n",
    "inx = 0\n",
    "for v in sms_df['sms'].values:\n",
    "        Xlen[inx,0] = len(v)\n",
    "        inx += 1\n",
    "Xlen = Xlen / max(Xlen)\n",
    "# Add the length as another feature\n",
    "X = np.hstack((X, Xlen))\n",
    "\n",
    "y = sms_df['class'].values\n",
    "\n",
    "# Now we split...\n",
    "X_train, X_test, y_train, y_test = ms.train_test_split(X, \n",
    "                                                    y, test_size=0.2)\n",
    "\n",
    "X_train"
   ]
  },
  {
   "cell_type": "markdown",
   "metadata": {},
   "source": [
    "## Step 1.4 Classifier Evaluation"
   ]
  },
  {
   "cell_type": "code",
   "execution_count": 222,
   "metadata": {
    "collapsed": false
   },
   "outputs": [],
   "source": [
    "from sklearn.tree import DecisionTreeClassifier\n",
    "from sklearn.svm import SVC\n",
    "import sklearn.model_selection as ms\n",
    "from sklearn.linear_model import LogisticRegression\n",
    "import numpy as np\n",
    "\n",
    "# Results, as a list of dictionaries\n",
    "classifier_results = []\n",
    "\n",
    "svc = {}\n",
    "svc['classifier'] = 'svc' \n",
    "clfsvc = SVC(random_state=42)\n",
    "clfsvc.fit(X_train, y_train)\n",
    "predictsvc = clfsvc.predict(X_test)\n",
    "svc['score'] = 1 - len(np.where((predictsvc != y_test)== True)[0])/len(y_test)\n",
    "classifier_results.append(svc)\n",
    "\n",
    "DT1 = {}\n",
    "DT1['classifier'] = 'DecisionTree'\n",
    "DT1['depth'] = 1\n",
    "clfdt = DecisionTreeClassifier(max_depth=1,random_state=42)\n",
    "clfdt.fit(X_train, y_train)\n",
    "predictDT = clfdt.predict(X_test)\n",
    "DT1['score'] = 1 - len(np.where((predictDT != y_test)== True)[0])/len(y_test)\n",
    "classifier_results.append(DT1)\n",
    "\n",
    "DT2 = {}\n",
    "DT2['classifier'] = 'DecisionTree'\n",
    "DT2['depth'] = 2\n",
    "clfdt2 = DecisionTreeClassifier(max_depth=2,random_state=42)\n",
    "clfdt2.fit(X_train, y_train)\n",
    "predictDT2 = clfdt2.predict(X_test)\n",
    "DT2['score'] = 1 - len(np.where((predictDT2 != y_test)== True)[0])/len(y_test)\n",
    "classifier_results.append(DT2)\n",
    "\n",
    "DT3 = {}\n",
    "DT3['classifier'] = 'DecisionTree'\n",
    "DT3['depth'] = 3\n",
    "clfdt3 = DecisionTreeClassifier(max_depth=3,random_state=42)\n",
    "clfdt3.fit(X_train, y_train)\n",
    "predictDT3 = clfdt3.predict(X_test)\n",
    "DT3['score'] = 1 - len(np.where((predictDT3 != y_test)== True)[0])/len(y_test)\n",
    "classifier_results.append(DT3)\n",
    "\n",
    "DT4 = {}\n",
    "DT4['classifier'] = 'DecisionTree'\n",
    "DT4['depth'] = 4\n",
    "clfdt4 = DecisionTreeClassifier(max_depth=4,random_state=42)\n",
    "clfdt4.fit(X_train, y_train)\n",
    "predictDT4 = clfdt4.predict(X_test)\n",
    "DT4['score'] = 1 - len(np.where((predictDT4 != y_test)== True)[0])/len(y_test)\n",
    "classifier_results.append(DT4)\n",
    "\n",
    "DT5 = {}\n",
    "DT5['classifier'] = 'DecisionTree'\n",
    "DT5['depth'] = 5\n",
    "clfdt5 = DecisionTreeClassifier(max_depth=5,random_state=42)\n",
    "clfdt5.fit(X_train, y_train)\n",
    "predictDT5 = clfdt5.predict(X_test)\n",
    "DT5['score'] = 1 - len(np.where((predictDT5 != y_test)== True)[0])/len(y_test)\n",
    "classifier_results.append(DT5)\n",
    "\n",
    "l1 = {}\n",
    "l1['classifier'] = 'LogisticRegression(l1)'\n",
    "clflr1 = LogisticRegression(penalty='l1',random_state=42,solver='liblinear')\n",
    "clflr1.fit(X_train, y_train)\n",
    "predictlr1 = clflr1.predict(X_test)\n",
    "l1['score'] = 1 - len(np.where((predictlr1 != y_test)== True)[0])/len(y_test)\n",
    "classifier_results.append(l1)\n",
    "\n",
    "l2 = {}\n",
    "l2['classifier'] = 'LogisticRegression(l2)'\n",
    "clflr2 = LogisticRegression(penalty='l2',random_state=42,solver='liblinear')\n",
    "clflr2.fit(X_train, y_train)\n",
    "predictlr2 = clflr2.predict(X_test)\n",
    "l2['score'] =  1 - len(np.where((predictlr2 != y_test)== True)[0])/len(y_test)\n",
    "classifier_results.append(l2)\n"
   ]
  },
  {
   "cell_type": "code",
   "execution_count": 186,
   "metadata": {
    "collapsed": false
   },
   "outputs": [
    {
     "data": {
      "text/plain": [
       "[{'classifier': 'svc', 'score': 0.9650224215246637},\n",
       " {'classifier': 'DecisionTree', 'depth': 1, 'score': 0.9336322869955157},\n",
       " {'classifier': 'DecisionTree', 'depth': 2, 'score': 0.9399103139013453},\n",
       " {'classifier': 'DecisionTree', 'depth': 3, 'score': 0.9461883408071748},\n",
       " {'classifier': 'DecisionTree', 'depth': 4, 'score': 0.9497757847533632},\n",
       " {'classifier': 'DecisionTree', 'depth': 5, 'score': 0.9497757847533632},\n",
       " {'classifier': 'LogisticRegression(l1)', 'score': 0.9695067264573991},\n",
       " {'classifier': 'LogisticRegression(l2)', 'score': 0.9713004484304932}]"
      ]
     },
     "execution_count": 186,
     "metadata": {},
     "output_type": "execute_result"
    }
   ],
   "source": [
    "# Code for creating and testing classifiers\n",
    "classifier_results"
   ]
  },
  {
   "cell_type": "code",
   "execution_count": 223,
   "metadata": {
    "collapsed": false
   },
   "outputs": [
    {
     "data": {
      "text/html": [
       "<div>\n",
       "<table border=\"1\" class=\"dataframe\">\n",
       "  <thead>\n",
       "    <tr style=\"text-align: right;\">\n",
       "      <th></th>\n",
       "      <th>classifier</th>\n",
       "      <th>depth</th>\n",
       "      <th>score</th>\n",
       "    </tr>\n",
       "  </thead>\n",
       "  <tbody>\n",
       "    <tr>\n",
       "      <th>0</th>\n",
       "      <td>svc</td>\n",
       "      <td>NaN</td>\n",
       "      <td>0.972197</td>\n",
       "    </tr>\n",
       "    <tr>\n",
       "      <th>1</th>\n",
       "      <td>DecisionTree</td>\n",
       "      <td>1.0</td>\n",
       "      <td>0.947982</td>\n",
       "    </tr>\n",
       "    <tr>\n",
       "      <th>2</th>\n",
       "      <td>DecisionTree</td>\n",
       "      <td>2.0</td>\n",
       "      <td>0.956054</td>\n",
       "    </tr>\n",
       "    <tr>\n",
       "      <th>3</th>\n",
       "      <td>DecisionTree</td>\n",
       "      <td>3.0</td>\n",
       "      <td>0.953363</td>\n",
       "    </tr>\n",
       "    <tr>\n",
       "      <th>4</th>\n",
       "      <td>DecisionTree</td>\n",
       "      <td>4.0</td>\n",
       "      <td>0.955157</td>\n",
       "    </tr>\n",
       "    <tr>\n",
       "      <th>5</th>\n",
       "      <td>DecisionTree</td>\n",
       "      <td>5.0</td>\n",
       "      <td>0.957848</td>\n",
       "    </tr>\n",
       "    <tr>\n",
       "      <th>6</th>\n",
       "      <td>LogisticRegression(l1)</td>\n",
       "      <td>NaN</td>\n",
       "      <td>0.974888</td>\n",
       "    </tr>\n",
       "    <tr>\n",
       "      <th>7</th>\n",
       "      <td>LogisticRegression(l2)</td>\n",
       "      <td>NaN</td>\n",
       "      <td>0.975785</td>\n",
       "    </tr>\n",
       "  </tbody>\n",
       "</table>\n",
       "</div>"
      ],
      "text/plain": [
       "               classifier  depth     score\n",
       "0                     svc    NaN  0.972197\n",
       "1            DecisionTree    1.0  0.947982\n",
       "2            DecisionTree    2.0  0.956054\n",
       "3            DecisionTree    3.0  0.953363\n",
       "4            DecisionTree    4.0  0.955157\n",
       "5            DecisionTree    5.0  0.957848\n",
       "6  LogisticRegression(l1)    NaN  0.974888\n",
       "7  LogisticRegression(l2)    NaN  0.975785"
      ]
     },
     "execution_count": 223,
     "metadata": {},
     "output_type": "execute_result"
    }
   ],
   "source": [
    "pd.DataFrame(classifier_results)"
   ]
  },
  {
   "cell_type": "markdown",
   "metadata": {
    "collapsed": true
   },
   "source": [
    "## Step 2.0 Ensembles"
   ]
  },
  {
   "cell_type": "code",
   "execution_count": 228,
   "metadata": {
    "collapsed": false
   },
   "outputs": [],
   "source": [
    "from sklearn.ensemble import RandomForestClassifier\n",
    "from sklearn.ensemble import AdaBoostClassifier\n",
    "from sklearn.ensemble import BaggingClassifier\n",
    "\n",
    "# Results, as a list of dictionaries\n",
    "classifier_results = []\n",
    "rfc = {}\n",
    "rfc['classifier']= 'RandomForest'\n",
    "rfc['count'] = 31\n",
    "clfrf = RandomForestClassifier(n_estimators=31, random_state=314)\n",
    "clfrf.fit(X_train, y_train)\n",
    "predictrf = clfrf.predict(X_test)\n",
    "rfc['score']= 1 - len(np.where((predictrf != y_test)== True)[0])/len(y_test)\n",
    "classifier_results.append(rfc)\n",
    "\n",
    "bdt = {}\n",
    "bdt['classifier']= 'Bag-DecTree'\n",
    "bdt['count'] = 31\n",
    "cart = DecisionTreeClassifier(random_state=42)\n",
    "clfbdt = BaggingClassifier(base_estimator=cart, n_estimators=31, random_state=314)\n",
    "clfbdt.fit(X_train, y_train)\n",
    "predictbdt = clfbdt.predict(X_test)\n",
    "bdt['score']= 1- len(np.where((predictbdt != y_test)== True)[0])/len(y_test)\n",
    "classifier_results.append(bdt)\n",
    "\n",
    "blr1 = {}\n",
    "blr1['classifier']= 'Bag-LogReg-L1'\n",
    "blr1['count'] = 31\n",
    "cart = LogisticRegression(penalty='l1',random_state=42,solver='liblinear')\n",
    "clfblr1 = BaggingClassifier(base_estimator=cart, n_estimators=31, random_state=314)\n",
    "clfblr1.fit(X_train, y_train)\n",
    "predictblr1 = clfblr1.predict(X_test)\n",
    "blr1['score'] = 1- len(np.where((predictblr1 != y_test)== True)[0])/len(y_test)\n",
    "classifier_results.append(blr1)\n",
    "\n",
    "blr2 = {}\n",
    "blr2['classifier']= 'Bag-LogReg-L2'\n",
    "blr2['count'] = 31\n",
    "cart = LogisticRegression(penalty='l2',random_state=42,solver='liblinear')\n",
    "clfblr2 = BaggingClassifier(base_estimator=cart, n_estimators=31, random_state=314)\n",
    "clfblr2.fit(X_train, y_train)\n",
    "predictblr2 = clfblr2.predict(X_test)\n",
    "blr2['score'] =  1 - len(np.where((predictblr2 != y_test)== True)[0])/len(y_test)\n",
    "classifier_results.append(blr2)\n",
    "\n",
    "bsvc = {}\n",
    "bsvc['classifier']= 'Bag-SVM'\n",
    "bsvc['count'] = 31\n",
    "cart = SVC(random_state=42)\n",
    "clfsvc = BaggingClassifier(base_estimator=cart, n_estimators=31, random_state=314)\n",
    "clfsvc.fit(X_train, y_train)\n",
    "predictsvc = clfsvc.predict(X_test)\n",
    "bsvc['score'] = 1 - len(np.where((predictsvc != y_test)== True)[0])/len(y_test)\n",
    "classifier_results.append(bsvc)\n",
    "\n",
    "adt = {}\n",
    "adt['classifier']= 'Boost-DecTree'\n",
    "adt['count'] = 31\n",
    "cart = DecisionTreeClassifier(random_state=42)\n",
    "adaDT = AdaBoostClassifier(base_estimator=cart, n_estimators = 31, random_state=314)\n",
    "adaDT.fit(X_train, y_train)\n",
    "predictadaDT = adaDT.predict(X_test)\n",
    "adt['score'] = 1 - len(np.where((predictadaDT != y_test)== True)[0])/len(y_test)\n",
    "classifier_results.append(adt)\n",
    "\n",
    "alr1 = {}\n",
    "alr1['classifier']= 'Boost-LogReg-L1'\n",
    "alr1['count'] = 31\n",
    "cart = LogisticRegression(penalty='l1',random_state=42,solver='liblinear')\n",
    "adalr1 = AdaBoostClassifier(base_estimator=cart, n_estimators = 31, random_state=314)\n",
    "adalr1.fit(X_train, y_train)\n",
    "predictadalr1 = adalr1.predict(X_test)\n",
    "alr1['score'] = 1 - len(np.where((predictadalr1 != y_test)== True)[0])/len(y_test)\n",
    "classifier_results.append(alr1)\n",
    "\n",
    "alr2 = {}\n",
    "alr2['classifier']= 'Boost-LogReg-L2'\n",
    "alr2['count'] = 31\n",
    "cart = LogisticRegression(penalty='l2',random_state=42,solver='liblinear')\n",
    "adalr2 = AdaBoostClassifier(base_estimator=cart, n_estimators = 31, random_state=314)\n",
    "adalr2.fit(X_train, y_train)\n",
    "predictadalr2 = adalr2.predict(X_test)\n",
    "alr2['score'] = 1 - len(np.where((predictadalr2 != y_test)== True)[0])/len(y_test)\n",
    "classifier_results.append(alr2)\n",
    "\n",
    "asvc = {}\n",
    "asvc['classifier']= 'Boost-LogReg-L2'\n",
    "asvc['count'] = 31\n",
    "cart = SVC(random_state=42)\n",
    "adasvc = AdaBoostClassifier(base_estimator=cart, algorithm = 'SAMME',n_estimators = 31, random_state=314)\n",
    "adasvc.fit(X_train, y_train)\n",
    "predictadasvc = adasvc.predict(X_test)\n",
    "asvc['score'] = 1 - len(np.where((predictadasvc != y_test)== True)[0])/len(y_test)\n",
    "classifier_results.append(asvc)\n",
    "\n",
    "#classifier_results"
   ]
  },
  {
   "cell_type": "markdown",
   "metadata": {},
   "source": [
    "## Compute ensemble classifier results here"
   ]
  },
  {
   "cell_type": "code",
   "execution_count": 229,
   "metadata": {
    "collapsed": false
   },
   "outputs": [
    {
     "data": {
      "text/plain": [
       "[{'classifier': 'RandomForest', 'count': 31, 'score': 0.9739910313901345},\n",
       " {'classifier': 'Bag-DecTree', 'count': 31, 'score': 0.9650224215246637},\n",
       " {'classifier': 'Bag-LogReg-L1', 'count': 31, 'score': 0.9757847533632287},\n",
       " {'classifier': 'Bag-LogReg-L2', 'count': 31, 'score': 0.9757847533632287},\n",
       " {'classifier': 'Bag-SVM', 'count': 31, 'score': 0.9713004484304932},\n",
       " {'classifier': 'Boost-DecTree', 'count': 31, 'score': 0.9614349775784753},\n",
       " {'classifier': 'Boost-LogReg-L1', 'count': 31, 'score': 0.862780269058296},\n",
       " {'classifier': 'Boost-LogReg-L2', 'count': 31, 'score': 0.9605381165919282},\n",
       " {'classifier': 'Boost-LogReg-L2', 'count': 31, 'score': 0.862780269058296}]"
      ]
     },
     "execution_count": 229,
     "metadata": {},
     "output_type": "execute_result"
    }
   ],
   "source": [
    "classifier_results"
   ]
  },
  {
   "cell_type": "markdown",
   "metadata": {},
   "source": [
    "## Step 2.0 Results"
   ]
  },
  {
   "cell_type": "code",
   "execution_count": 230,
   "metadata": {
    "collapsed": false
   },
   "outputs": [
    {
     "data": {
      "text/html": [
       "<div>\n",
       "<table border=\"1\" class=\"dataframe\">\n",
       "  <thead>\n",
       "    <tr style=\"text-align: right;\">\n",
       "      <th></th>\n",
       "      <th>classifier</th>\n",
       "      <th>count</th>\n",
       "      <th>score</th>\n",
       "    </tr>\n",
       "  </thead>\n",
       "  <tbody>\n",
       "    <tr>\n",
       "      <th>0</th>\n",
       "      <td>RandomForest</td>\n",
       "      <td>31</td>\n",
       "      <td>0.973991</td>\n",
       "    </tr>\n",
       "    <tr>\n",
       "      <th>1</th>\n",
       "      <td>Bag-DecTree</td>\n",
       "      <td>31</td>\n",
       "      <td>0.965022</td>\n",
       "    </tr>\n",
       "    <tr>\n",
       "      <th>2</th>\n",
       "      <td>Bag-LogReg-L1</td>\n",
       "      <td>31</td>\n",
       "      <td>0.975785</td>\n",
       "    </tr>\n",
       "    <tr>\n",
       "      <th>3</th>\n",
       "      <td>Bag-LogReg-L2</td>\n",
       "      <td>31</td>\n",
       "      <td>0.975785</td>\n",
       "    </tr>\n",
       "    <tr>\n",
       "      <th>4</th>\n",
       "      <td>Bag-SVM</td>\n",
       "      <td>31</td>\n",
       "      <td>0.971300</td>\n",
       "    </tr>\n",
       "    <tr>\n",
       "      <th>5</th>\n",
       "      <td>Boost-DecTree</td>\n",
       "      <td>31</td>\n",
       "      <td>0.961435</td>\n",
       "    </tr>\n",
       "    <tr>\n",
       "      <th>6</th>\n",
       "      <td>Boost-LogReg-L1</td>\n",
       "      <td>31</td>\n",
       "      <td>0.862780</td>\n",
       "    </tr>\n",
       "    <tr>\n",
       "      <th>7</th>\n",
       "      <td>Boost-LogReg-L2</td>\n",
       "      <td>31</td>\n",
       "      <td>0.960538</td>\n",
       "    </tr>\n",
       "    <tr>\n",
       "      <th>8</th>\n",
       "      <td>Boost-LogReg-L2</td>\n",
       "      <td>31</td>\n",
       "      <td>0.862780</td>\n",
       "    </tr>\n",
       "  </tbody>\n",
       "</table>\n",
       "</div>"
      ],
      "text/plain": [
       "        classifier  count     score\n",
       "0     RandomForest     31  0.973991\n",
       "1      Bag-DecTree     31  0.965022\n",
       "2    Bag-LogReg-L1     31  0.975785\n",
       "3    Bag-LogReg-L2     31  0.975785\n",
       "4          Bag-SVM     31  0.971300\n",
       "5    Boost-DecTree     31  0.961435\n",
       "6  Boost-LogReg-L1     31  0.862780\n",
       "7  Boost-LogReg-L2     31  0.960538\n",
       "8  Boost-LogReg-L2     31  0.862780"
      ]
     },
     "execution_count": 230,
     "metadata": {},
     "output_type": "execute_result"
    }
   ],
   "source": [
    "pd.DataFrame(classifier_results)"
   ]
  },
  {
   "cell_type": "markdown",
   "metadata": {
    "collapsed": true
   },
   "source": [
    "## Step 3.0 Neural Networks"
   ]
  },
  {
   "cell_type": "code",
   "execution_count": 199,
   "metadata": {
    "collapsed": true
   },
   "outputs": [],
   "source": [
    "from sklearn.linear_model import Perceptron\n",
    "from sklearn.neural_network import MLPClassifier\n",
    "\n",
    "classifier_results = []"
   ]
  },
  {
   "cell_type": "code",
   "execution_count": 226,
   "metadata": {
    "collapsed": false
   },
   "outputs": [
    {
     "name": "stderr",
     "output_type": "stream",
     "text": [
      "/Users/nintendo/cis700/lib/python3.5/site-packages/sklearn/neural_network/multilayer_perceptron.py:563: ConvergenceWarning: Stochastic Optimizer: Maximum iterations reached and the optimization hasn't converged yet.\n",
      "  % (), ConvergenceWarning)\n"
     ]
    }
   ],
   "source": [
    "# Code for classifier construction and testing\n",
    "classifier_results = []\n",
    "per = {}\n",
    "per['classifier']= 'perceptron'\n",
    "clfp = Perceptron(random_state=42)\n",
    "clfp.fit(X_train, y_train)\n",
    "predictclfp = clfp.predict(X_test)\n",
    "per['score'] = 1 - len(np.where((predictclfp != y_test)== True)[0])/len(y_test)\n",
    "classifier_results.append(per)\n",
    "\n",
    "nn13= {}\n",
    "nn13['classifier']= 'MLP'\n",
    "nn13['hidden'] = (3,)\n",
    "clfnn13 =MLPClassifier(hidden_layer_sizes=(3,1),random_state=42)\n",
    "clfnn13.fit(X_train, y_train)\n",
    "predictnn13 = clfnn13.predict(X_test)\n",
    "nn13['score'] = 1 - len(np.where((predictnn13 != y_test)== True)[0])/len(y_test)\n",
    "classifier_results.append(nn13)\n",
    "\n",
    "nn110= {}\n",
    "nn110['classifier']= 'MLP'\n",
    "nn110['hidden'] = (10,)\n",
    "clfnn110 =MLPClassifier(hidden_layer_sizes=(10,1),random_state=42)\n",
    "clfnn110.fit(X_train, y_train)\n",
    "predictnn110 = clfnn110.predict(X_test)\n",
    "nn110['score'] = 1 - len(np.where((predictnn110 != y_test)== True)[0])/len(y_test)\n",
    "classifier_results.append(nn110)\n",
    "\n",
    "nn310= {}\n",
    "nn310['classifier']= 'MLP'\n",
    "nn310['hidden'] = (10,10,10)\n",
    "clfnn310 =MLPClassifier(hidden_layer_sizes=(10,3),random_state=42,max_iter=100000)\n",
    "clfnn310.fit(X_train, y_train)\n",
    "predictnn310 = clfnn310.predict(X_test)\n",
    "nn110['score'] = 1 - len(np.where((predictnn310 != y_test)== True)[0])/len(y_test)\n",
    "classifier_results.append(nn310)"
   ]
  },
  {
   "cell_type": "code",
   "execution_count": 227,
   "metadata": {
    "collapsed": false
   },
   "outputs": [
    {
     "data": {
      "text/html": [
       "<div>\n",
       "<table border=\"1\" class=\"dataframe\">\n",
       "  <thead>\n",
       "    <tr style=\"text-align: right;\">\n",
       "      <th></th>\n",
       "      <th>classifier</th>\n",
       "      <th>hidden</th>\n",
       "      <th>score</th>\n",
       "    </tr>\n",
       "  </thead>\n",
       "  <tbody>\n",
       "    <tr>\n",
       "      <th>0</th>\n",
       "      <td>perceptron</td>\n",
       "      <td>NaN</td>\n",
       "      <td>0.951570</td>\n",
       "    </tr>\n",
       "    <tr>\n",
       "      <th>1</th>\n",
       "      <td>MLP</td>\n",
       "      <td>(3,)</td>\n",
       "      <td>0.978475</td>\n",
       "    </tr>\n",
       "    <tr>\n",
       "      <th>2</th>\n",
       "      <td>MLP</td>\n",
       "      <td>(10,)</td>\n",
       "      <td>0.978475</td>\n",
       "    </tr>\n",
       "    <tr>\n",
       "      <th>3</th>\n",
       "      <td>MLP</td>\n",
       "      <td>(10, 10, 10)</td>\n",
       "      <td>NaN</td>\n",
       "    </tr>\n",
       "  </tbody>\n",
       "</table>\n",
       "</div>"
      ],
      "text/plain": [
       "   classifier        hidden     score\n",
       "0  perceptron           NaN  0.951570\n",
       "1         MLP          (3,)  0.978475\n",
       "2         MLP         (10,)  0.978475\n",
       "3         MLP  (10, 10, 10)       NaN"
      ]
     },
     "execution_count": 227,
     "metadata": {},
     "output_type": "execute_result"
    }
   ],
   "source": [
    "pd.DataFrame(classifier_results)"
   ]
  },
  {
   "cell_type": "raw",
   "metadata": {},
   "source": []
  },
  {
   "cell_type": "code",
   "execution_count": 103,
   "metadata": {
    "collapsed": true
   },
   "outputs": [],
   "source": []
  },
  {
   "cell_type": "code",
   "execution_count": null,
   "metadata": {
    "collapsed": true
   },
   "outputs": [],
   "source": []
  }
 ],
 "metadata": {
  "kernelspec": {
   "display_name": "Python 3",
   "language": "python",
   "name": "python3"
  },
  "language_info": {
   "codemirror_mode": {
    "name": "ipython",
    "version": 3
   },
   "file_extension": ".py",
   "mimetype": "text/x-python",
   "name": "python",
   "nbconvert_exporter": "python",
   "pygments_lexer": "ipython3",
   "version": "3.5.2"
  }
 },
 "nbformat": 4,
 "nbformat_minor": 1
}
