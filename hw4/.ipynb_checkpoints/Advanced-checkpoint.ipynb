{
 "cells": [
  {
   "cell_type": "code",
   "execution_count": 2,
   "metadata": {
    "collapsed": true
   },
   "outputs": [],
   "source": [
    "def find_substitutionCost(c1,c2,substitutionCost):\n",
    "    if c1 == c2:\n",
    "        return substitutionCost\n",
    "    else:\n",
    "        return -1*substitutionCost\n",
    "    \n",
    "def get_arrow(course):\n",
    "    \n",
    "    maximum = max(course)\n",
    "    values = [i for i, j in enumerate(course) if j == maximum]\n",
    "    values_final = []\n",
    "    for i in range(0,len(values)):\n",
    "        if values[i] == 0:\n",
    "            values_final.append('up')\n",
    "        elif values[i] == 1:\n",
    "            values_final.append('left')\n",
    "        else:\n",
    "            values_final.append('diag')\n",
    "    return  values_final   \n",
    "\n",
    "def alignment_scores(seq1, seq2, indelCost, substitutionCost):\n",
    "    s1 = ''.join(seq1)\n",
    "    s2 = ''.join(seq2)\n",
    "    D =  {}\n",
    "    for i in range(0,len(s1)+1):\n",
    "        D[(i,0)] = [0,0]\n",
    "        D[(i,0)][0] = -1*i*indelCost\n",
    "        D[(i,0)][1] = 'none'\n",
    "    for j in range(0,len(s2)+1):\n",
    "        D[(0,j)] = [0,0]\n",
    "        D[(0,j)][0] = -1*j*indelCost\n",
    "        D[(0,j)][1] = 'none'\n",
    "    \n",
    "    for seti,c1 in enumerate(s1):\n",
    "        i = seti+1\n",
    "        #print(c1)\n",
    "        for setj,c2 in enumerate(s2):\n",
    "            j = setj+1\n",
    "            #print(c2)\n",
    "            D[(i,j)] = [0,0]\n",
    "            #print(D[(i,j)][1])\n",
    "            values = [D[(i - 1, j)][0] - indelCost,D[(i, j-1)][0] - indelCost,D[(i - 1, j - 1)][0]+find_substitutionCost(c1,c2,substitutionCost)]\n",
    "            D[(i,j)][0] = max(values)\n",
    "            paths = get_arrow(values)\n",
    "            #print(i,j)\n",
    "            #print(paths)\n",
    "            D[(i,j)][1] = paths        \n",
    "    return D\n",
    "    "
   ]
  },
  {
   "cell_type": "markdown",
   "metadata": {},
   "source": [
    "## 4.1"
   ]
  },
  {
   "cell_type": "code",
   "execution_count": 3,
   "metadata": {
    "collapsed": false
   },
   "outputs": [
    {
     "data": {
      "text/plain": [
       "{(0, 0): [0, 'none'],\n",
       " (0, 1): [-2, 'none'],\n",
       " (0, 2): [-4, 'none'],\n",
       " (0, 3): [-6, 'none'],\n",
       " (0, 4): [-8, 'none'],\n",
       " (0, 5): [-10, 'none'],\n",
       " (0, 6): [-12, 'none'],\n",
       " (0, 7): [-14, 'none'],\n",
       " (1, 0): [-2, 'none'],\n",
       " (1, 1): [1, ['diag']],\n",
       " (1, 2): [-1, ['left']],\n",
       " (1, 3): [-3, ['left']],\n",
       " (1, 4): [-5, ['left']],\n",
       " (1, 5): [-7, ['left']],\n",
       " (1, 6): [-9, ['left']],\n",
       " (1, 7): [-11, ['left']],\n",
       " (2, 0): [-4, 'none'],\n",
       " (2, 1): [-1, ['up']],\n",
       " (2, 2): [2, ['diag']],\n",
       " (2, 3): [0, ['left']],\n",
       " (2, 4): [-2, ['left']],\n",
       " (2, 5): [-4, ['left']],\n",
       " (2, 6): [-6, ['left']],\n",
       " (2, 7): [-8, ['left']],\n",
       " (3, 0): [-6, 'none'],\n",
       " (3, 1): [-3, ['up']],\n",
       " (3, 2): [0, ['up']],\n",
       " (3, 3): [3, ['diag']],\n",
       " (3, 4): [1, ['left']],\n",
       " (3, 5): [-1, ['left', 'diag']],\n",
       " (3, 6): [-3, ['left']],\n",
       " (3, 7): [-5, ['left']],\n",
       " (4, 0): [-8, 'none'],\n",
       " (4, 1): [-5, ['up']],\n",
       " (4, 2): [-2, ['up']],\n",
       " (4, 3): [1, ['up', 'diag']],\n",
       " (4, 4): [2, ['diag']],\n",
       " (4, 5): [2, ['diag']],\n",
       " (4, 6): [0, ['left']],\n",
       " (4, 7): [-2, ['left']],\n",
       " (5, 0): [-10, 'none'],\n",
       " (5, 1): [-7, ['up']],\n",
       " (5, 2): [-4, ['up']],\n",
       " (5, 3): [-1, ['up']],\n",
       " (5, 4): [2, ['diag']],\n",
       " (5, 5): [1, ['diag']],\n",
       " (5, 6): [1, ['diag']],\n",
       " (5, 7): [1, ['diag']],\n",
       " (6, 0): [-12, 'none'],\n",
       " (6, 1): [-9, ['up']],\n",
       " (6, 2): [-6, ['up']],\n",
       " (6, 3): [-3, ['up', 'diag']],\n",
       " (6, 4): [0, ['up']],\n",
       " (6, 5): [3, ['diag']],\n",
       " (6, 6): [1, ['left']],\n",
       " (6, 7): [0, ['diag']]}"
      ]
     },
     "execution_count": 3,
     "metadata": {},
     "output_type": "execute_result"
    }
   ],
   "source": [
    "alignment_scores(['A','T','G','G','U','G'], ['A','T','G','U','G','C','U'], 2, 1)"
   ]
  },
  {
   "cell_type": "markdown",
   "metadata": {},
   "source": [
    "## 4.2.1 "
   ]
  },
  {
   "cell_type": "code",
   "execution_count": 4,
   "metadata": {
    "collapsed": false
   },
   "outputs": [
    {
     "data": {
      "text/plain": [
       "{(0, 0): [0, 'none'],\n",
       " (0, 1): [-2, 'none'],\n",
       " (0, 2): [-4, 'none'],\n",
       " (0, 3): [-6, 'none'],\n",
       " (0, 4): [-8, 'none'],\n",
       " (0, 5): [-10, 'none'],\n",
       " (0, 6): [-12, 'none'],\n",
       " (0, 7): [-14, 'none'],\n",
       " (1, 0): [-2, 'none'],\n",
       " (1, 1): [1, ['diag']],\n",
       " (1, 2): [-1, ['left']],\n",
       " (1, 3): [-3, ['left']],\n",
       " (1, 4): [-5, ['left']],\n",
       " (1, 5): [-7, ['left']],\n",
       " (1, 6): [-9, ['left']],\n",
       " (1, 7): [-11, ['left']],\n",
       " (2, 0): [-4, 'none'],\n",
       " (2, 1): [-1, ['up']],\n",
       " (2, 2): [2, ['diag']],\n",
       " (2, 3): [0, ['left']],\n",
       " (2, 4): [-2, ['left']],\n",
       " (2, 5): [-4, ['left']],\n",
       " (2, 6): [-6, ['left']],\n",
       " (2, 7): [-8, ['left']],\n",
       " (3, 0): [-6, 'none'],\n",
       " (3, 1): [-3, ['up']],\n",
       " (3, 2): [0, ['up']],\n",
       " (3, 3): [3, ['diag']],\n",
       " (3, 4): [1, ['left']],\n",
       " (3, 5): [-1, ['left', 'diag']],\n",
       " (3, 6): [-3, ['left']],\n",
       " (3, 7): [-5, ['left']],\n",
       " (4, 0): [-8, 'none'],\n",
       " (4, 1): [-5, ['up']],\n",
       " (4, 2): [-2, ['up']],\n",
       " (4, 3): [1, ['up', 'diag']],\n",
       " (4, 4): [2, ['diag']],\n",
       " (4, 5): [2, ['diag']],\n",
       " (4, 6): [0, ['left']],\n",
       " (4, 7): [-2, ['left']],\n",
       " (5, 0): [-10, 'none'],\n",
       " (5, 1): [-7, ['up']],\n",
       " (5, 2): [-4, ['up']],\n",
       " (5, 3): [-1, ['up']],\n",
       " (5, 4): [2, ['diag']],\n",
       " (5, 5): [1, ['diag']],\n",
       " (5, 6): [1, ['diag']],\n",
       " (5, 7): [1, ['diag']],\n",
       " (6, 0): [-12, 'none'],\n",
       " (6, 1): [-9, ['up']],\n",
       " (6, 2): [-6, ['up']],\n",
       " (6, 3): [-3, ['up', 'diag']],\n",
       " (6, 4): [0, ['up']],\n",
       " (6, 5): [3, ['diag']],\n",
       " (6, 6): [1, ['left']],\n",
       " (6, 7): [0, ['diag']]}"
      ]
     },
     "execution_count": 4,
     "metadata": {},
     "output_type": "execute_result"
    }
   ],
   "source": [
    "path =alignment_scores(['A','T','G','G','U','G'], ['A','T','G','U','G','C','U'], 2, 1)\n",
    "path"
   ]
  },
  {
   "cell_type": "code",
   "execution_count": null,
   "metadata": {
    "collapsed": false
   },
   "outputs": [],
   "source": [
    "#D = alignment_scores(['A','T','G','G','U','G'], ['A','T','G','U','G','C','U'], 2, 1)\n",
    "def build_paths(D,instance_key,i,j,pathway,layer):\n",
    "    look_at = D[instance_key][1]\n",
    "    set_value = 0 \n",
    "    #pathway = []\n",
    "    #print(look_at)\n",
    "    # print(i,j)\n",
    "    if (i and j > 0) and set_value == 0 :\n",
    "        for k in range(0,len(look_at)):\n",
    "             if look_at[k] == 'diag':\n",
    "                  pathway.append(['diag',layer])\n",
    "                  layer = layer + 1\n",
    "                  pathway.append(build_paths(D,(i-1,j-1),i-1,j-1,pathway,layer)[0])\n",
    "                  set_value = build_paths(D,(i-1,j-1),i-1,j-1,pathway,layer)[1]\n",
    "                  if set_value == 1:\n",
    "                        break\n",
    "             elif look_at[k] == 'left':\n",
    "                  pathway.append(['left',layer])\n",
    "                  layer = layer + 1\n",
    "                  pathway.append(build_paths(D,(i,j-1),i,j-1,pathway,layer)[0])\n",
    "                  set_value = build_paths(D,(i,j-1),i,j-1,pathway,layer)[1]\n",
    "                  if set_value == 1:\n",
    "                        break\n",
    "             elif look_at[k] == 'up':\n",
    "                  pathway.append(['up',layer])\n",
    "                  layer = layer + 1\n",
    "                  pathway.append(build_paths(D,(i-1,j),i-1,j,pathway,layer)[0])\n",
    "                  set_value = build_paths(D,(i-1,j),i-1,j,pathway,layer)[1]\n",
    "                  if set_value == 1:\n",
    "                        break\n",
    "             else:\n",
    "                  set_value = 1\n",
    "                  return pathway,set_value\n",
    "    \n",
    "    return pathway,set_value\n",
    "    \n",
    "def build_paths_outer(D,instance_key,i,j,pathway,layer):\n",
    "    final_pathway = {}\n",
    "    pathway = build_paths(D,instance_key,i,j,pathway,layer)\n",
    "    for k in range(0,len(pathway)):\n",
    "        print((pathway[k][1]))\n",
    "        if pathway[k][1] not in final_pathway:\n",
    "            final_pathway[pathway[k][1]] = []\n",
    "        if pathway[k][0] not in final_pathway[pathway[k][1]]:\n",
    "            final_pathway[pathway[k][1]].append(pathway[k][0])\n",
    "        #print(final_pathway)\n",
    "    return final_pathway"
   ]
  },
  {
   "cell_type": "code",
   "execution_count": 64,
   "metadata": {
    "collapsed": false
   },
   "outputs": [],
   "source": [
    "D = alignment_scores(['A','T','G','G','U','G'], ['A','T','G','U','G','C','U'], 2, 1)"
   ]
  },
  {
   "cell_type": "code",
   "execution_count": 79,
   "metadata": {
    "collapsed": true
   },
   "outputs": [],
   "source": [
    "Test = alignment_scores(['G','A','T','T','A','C','A'],['G','C','A','T','G','C','U'], 1, 1)"
   ]
  },
  {
   "cell_type": "code",
   "execution_count": 107,
   "metadata": {
    "collapsed": false
   },
   "outputs": [],
   "source": [
    "path = build_paths(D,(6,7),6,7,[],0)"
   ]
  },
  {
   "cell_type": "markdown",
   "metadata": {},
   "source": [
    "## Step 4.2.2"
   ]
  },
  {
   "cell_type": "code",
   "execution_count": 108,
   "metadata": {
    "collapsed": false
   },
   "outputs": [
    {
     "data": {
      "text/plain": [
       "[['diag', 0],\n",
       " ['diag', 1],\n",
       " ['diag', 2],\n",
       " ['left', 3],\n",
       " ['diag', 4],\n",
       " ['diag', 5],\n",
       " ['diag', 6],\n",
       " [...],\n",
       " [...],\n",
       " [...],\n",
       " [...],\n",
       " [...],\n",
       " [...],\n",
       " [...]]"
      ]
     },
     "execution_count": 108,
     "metadata": {},
     "output_type": "execute_result"
    }
   ],
   "source": [
    "path"
   ]
  },
  {
   "cell_type": "markdown",
   "metadata": {
    "collapsed": true
   },
   "source": [
    "## Step 4.2.3"
   ]
  },
  {
   "cell_type": "code",
   "execution_count": 110,
   "metadata": {
    "collapsed": false
   },
   "outputs": [
    {
     "data": {
      "text/plain": [
       "[['diag', 0],\n",
       " ['diag', 1],\n",
       " ['diag', 2],\n",
       " ['left', 3],\n",
       " ['diag', 4],\n",
       " ['diag', 5],\n",
       " ['diag', 6],\n",
       " [...],\n",
       " [...],\n",
       " [...],\n",
       " [...],\n",
       " [...],\n",
       " [...],\n",
       " [...]]"
      ]
     },
     "execution_count": 110,
     "metadata": {},
     "output_type": "execute_result"
    }
   ],
   "source": [
    "path"
   ]
  },
  {
   "cell_type": "code",
   "execution_count": null,
   "metadata": {
    "collapsed": true
   },
   "outputs": [],
   "source": []
  }
 ],
 "metadata": {
  "kernelspec": {
   "display_name": "Python 3",
   "language": "python",
   "name": "python3"
  },
  "language_info": {
   "codemirror_mode": {
    "name": "ipython",
    "version": 3
   },
   "file_extension": ".py",
   "mimetype": "text/x-python",
   "name": "python",
   "nbconvert_exporter": "python",
   "pygments_lexer": "ipython3",
   "version": "3.5.2"
  }
 },
 "nbformat": 4,
 "nbformat_minor": 2
}
