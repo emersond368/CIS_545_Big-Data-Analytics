{
 "cells": [
  {
   "cell_type": "code",
   "execution_count": 3,
   "metadata": {
    "collapsed": false
   },
   "outputs": [],
   "source": [
    "import pyspark\n",
    "import os\n",
    "del os.environ['PYSPARK_SUBMIT_ARGS']"
   ]
  },
  {
   "cell_type": "code",
   "execution_count": 4,
   "metadata": {
    "collapsed": false
   },
   "outputs": [
    {
     "data": {
      "text/plain": [
       "[795, 655, 183, 459, 908]"
      ]
     },
     "execution_count": 4,
     "metadata": {},
     "output_type": "execute_result"
    }
   ],
   "source": [
    "sc = pyspark.SparkContext('local[*]')\n",
    "\n",
    "rdd = sc.parallelize(range(1000))\n",
    "\n",
    "rdd.takeSample(False, 5)"
   ]
  },
  {
   "cell_type": "code",
   "execution_count": 5,
   "metadata": {
    "collapsed": false
   },
   "outputs": [
    {
     "data": {
      "image/png": "[encoded data removed]",
      "text/plain": [
       "<matplotlib.figure.Figure at 0x10467b908>"
      ]
     },
     "metadata": {},
     "output_type": "display_data"
    }
   ],
   "source": [
    "# We’ll be using Matplotlib to plot a visualization\n",
    "\n",
    "%matplotlib inline\n",
    "\n",
    "import matplotlib.pyplot as plt\n",
    "\n",
    "import numpy as np\n",
    "\n",
    "# Sample 100 values from the RDD\n",
    "\n",
    "y = np.array(rdd.takeSample(False, 100, 1))\n",
    "\n",
    "# Create an array with the indices\n",
    "\n",
    "x = np.array(range(len(y)))\n",
    "\n",
    "# Create a plot with a caption, X and Y legends, etc\n",
    "\n",
    "plt.title(str(len(y)) + ' random samples from the RDD')\n",
    "\n",
    "plt.xlabel('Sample no')\n",
    "\n",
    "plt.ylabel('Value')\n",
    "\n",
    "plt.figtext(0.995, 0.01, 'CIS 700-003 student', ha='right', va='bottom')\n",
    "\n",
    "# Scatter plot that fits within the box\n",
    "\n",
    "plt.scatter(x, y)\n",
    "\n",
    "plt.tight_layout()\n",
    "\n",
    "# Now fit a trend line to the data and plot it over the scatter plot\n",
    "\n",
    "m, c = np.polyfit(x, y, 1)\n",
    "\n",
    "plt.plot(x, m*x + c)\n",
    "\n",
    "# Save the SVG\n",
    "\n",
    "plt.savefig('hw0.svg')"
   ]
  },
  {
   "cell_type": "code",
   "execution_count": null,
   "metadata": {
    "collapsed": true
   },
   "outputs": [],
   "source": []
  }
 ],
 "metadata": {
  "kernelspec": {
   "display_name": "Python 3",
   "language": "python",
   "name": "python3"
  },
  "language_info": {
   "codemirror_mode": {
    "name": "ipython",
    "version": 3
   },
   "file_extension": ".py",
   "mimetype": "text/x-python",
   "name": "python",
   "nbconvert_exporter": "python",
   "pygments_lexer": "ipython3",
   "version": "3.5.2"
  }
 },
 "nbformat": 4,
 "nbformat_minor": 2
}
