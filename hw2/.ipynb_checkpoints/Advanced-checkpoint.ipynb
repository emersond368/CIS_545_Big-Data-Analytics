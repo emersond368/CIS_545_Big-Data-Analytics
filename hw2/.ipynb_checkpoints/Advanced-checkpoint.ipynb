{
 "cells": [
  {
   "cell_type": "code",
   "execution_count": 30,
   "metadata": {
    "collapsed": false
   },
   "outputs": [],
   "source": [
    "import pyspark\n",
    "import os\n",
    "import pyspark\n",
    "import os\n",
    "#del os.environ['PYSPARK_SUBMIT_ARGS']\n",
    "from pyspark.sql import SparkSession\n",
    "from pyspark.sql.functions import concat, col, lit\n",
    "from pyspark.sql.types import *\n",
    "import pyspark.sql.functions as F"
   ]
  },
  {
   "cell_type": "code",
   "execution_count": 31,
   "metadata": {
    "collapsed": true
   },
   "outputs": [],
   "source": [
    "from pyspark.sql.functions import lit"
   ]
  },
  {
   "cell_type": "code",
   "execution_count": 32,
   "metadata": {
    "collapsed": true
   },
   "outputs": [],
   "source": [
    "import numpy as np"
   ]
  },
  {
   "cell_type": "code",
   "execution_count": 33,
   "metadata": {
    "collapsed": false
   },
   "outputs": [],
   "source": [
    "spark = SparkSession.builder.appName('Advanced-HW2').getOrCreate()"
   ]
  },
  {
   "cell_type": "code",
   "execution_count": 34,
   "metadata": {
    "collapsed": false
   },
   "outputs": [],
   "source": [
    "pr_sdf = spark.read.load('pr_graph.txt', format=\"text\")"
   ]
  },
  {
   "cell_type": "code",
   "execution_count": 35,
   "metadata": {
    "collapsed": true
   },
   "outputs": [],
   "source": [
    "pr_sdf.createOrReplaceTempView('pr_sdf')"
   ]
  },
  {
   "cell_type": "code",
   "execution_count": 36,
   "metadata": {
    "collapsed": true
   },
   "outputs": [],
   "source": [
    "pr_sdf = spark.sql('select CAST(split(value, \" \")[0] AS integer) AS from_node,'\\\n",
    "                     'CAST(split(value, \" \")[1]  AS integer) AS to_node, from_unixtime(split(value, \" \")[2]) AS timestamp from pr_sdf')"
   ]
  },
  {
   "cell_type": "code",
   "execution_count": 37,
   "metadata": {
    "collapsed": false
   },
   "outputs": [
    {
     "name": "stdout",
     "output_type": "stream",
     "text": [
      "+---------+-------+-------------------+\n",
      "|from_node|to_node|          timestamp|\n",
      "+---------+-------+-------------------+\n",
      "|        1|      2|1969-12-31 18:00:00|\n",
      "|        1|      3|1969-12-31 18:00:00|\n",
      "|        1|      4|1969-12-31 18:00:00|\n",
      "|        1|      5|1969-12-31 18:00:00|\n",
      "|        2|      3|1969-12-31 18:00:00|\n",
      "|        2|      5|1969-12-31 18:00:00|\n",
      "|        3|      2|1969-12-31 18:00:00|\n",
      "|        4|      5|1969-12-31 18:00:00|\n",
      "|        5|      1|1969-12-31 18:00:00|\n",
      "|        5|      6|1969-12-31 18:00:00|\n",
      "|        5|      7|1969-12-31 18:00:00|\n",
      "|        6|      7|1969-12-31 18:00:00|\n",
      "|        7|      6|1969-12-31 18:00:00|\n",
      "|        7|      2|1969-12-31 18:00:00|\n",
      "|        7|      7|1969-12-31 18:00:00|\n",
      "|        5|      4|1969-12-31 18:00:00|\n",
      "+---------+-------+-------------------+\n",
      "\n"
     ]
    }
   ],
   "source": [
    "pr_sdf.show()"
   ]
  },
  {
   "cell_type": "code",
   "execution_count": 38,
   "metadata": {
    "collapsed": true
   },
   "outputs": [],
   "source": [
    "adjacency = np.array([[0,1,1,1,1,0,0],[0,0,1,0,1,0,0],[0,1,0,0,0,0,0],[0,0,0,0,1,0,0],\\\n",
    "                     [1,0,0,1,0,1,1],[0,0,0,0,0,0,1],[0,1,0,0,0,1,1]])"
   ]
  },
  {
   "cell_type": "code",
   "execution_count": 39,
   "metadata": {
    "collapsed": false
   },
   "outputs": [
    {
     "data": {
      "text/plain": [
       "array([[0, 1, 1, 1, 1, 0, 0],\n",
       "       [0, 0, 1, 0, 1, 0, 0],\n",
       "       [0, 1, 0, 0, 0, 0, 0],\n",
       "       [0, 0, 0, 0, 1, 0, 0],\n",
       "       [1, 0, 0, 1, 0, 1, 1],\n",
       "       [0, 0, 0, 0, 0, 0, 1],\n",
       "       [0, 1, 0, 0, 0, 1, 1]])"
      ]
     },
     "execution_count": 39,
     "metadata": {},
     "output_type": "execute_result"
    }
   ],
   "source": [
    "adjacency"
   ]
  },
  {
   "cell_type": "code",
   "execution_count": 40,
   "metadata": {
    "collapsed": false
   },
   "outputs": [],
   "source": [
    "norm_adj = ((1/np.sum(adjacency,axis=1))*adjacency.T).T"
   ]
  },
  {
   "cell_type": "code",
   "execution_count": 41,
   "metadata": {
    "collapsed": false
   },
   "outputs": [
    {
     "data": {
      "text/plain": [
       "array([[ 0.        ,  0.25      ,  0.25      ,  0.25      ,  0.25      ,\n",
       "         0.        ,  0.        ],\n",
       "       [ 0.        ,  0.        ,  0.5       ,  0.        ,  0.5       ,\n",
       "         0.        ,  0.        ],\n",
       "       [ 0.        ,  1.        ,  0.        ,  0.        ,  0.        ,\n",
       "         0.        ,  0.        ],\n",
       "       [ 0.        ,  0.        ,  0.        ,  0.        ,  1.        ,\n",
       "         0.        ,  0.        ],\n",
       "       [ 0.25      ,  0.        ,  0.        ,  0.25      ,  0.        ,\n",
       "         0.25      ,  0.25      ],\n",
       "       [ 0.        ,  0.        ,  0.        ,  0.        ,  0.        ,\n",
       "         0.        ,  1.        ],\n",
       "       [ 0.        ,  0.33333333,  0.        ,  0.        ,  0.        ,\n",
       "         0.33333333,  0.33333333]])"
      ]
     },
     "execution_count": 41,
     "metadata": {},
     "output_type": "execute_result"
    }
   ],
   "source": [
    "norm_adj "
   ]
  },
  {
   "cell_type": "code",
   "execution_count": 63,
   "metadata": {
    "collapsed": false
   },
   "outputs": [
    {
     "data": {
      "text/plain": [
       "0.265"
      ]
     },
     "execution_count": 63,
     "metadata": {},
     "output_type": "execute_result"
    }
   ],
   "source": [
    "0.5*0.35+0.3*0.3"
   ]
  },
  {
   "cell_type": "code",
   "execution_count": 71,
   "metadata": {
    "collapsed": false
   },
   "outputs": [],
   "source": [
    "#start_vector = np.array([0,0.15,0.25,0.10,0.3,0.12,0.08])\n",
    "start_vector = np.array([1,1,1,1,1,1,1])"
   ]
  },
  {
   "cell_type": "code",
   "execution_count": 72,
   "metadata": {
    "collapsed": true
   },
   "outputs": [],
   "source": [
    "def prob_calc(start_vector,adjacency,alpha,beta):\n",
    "    prob = alpha*np.dot(adjacency.T,start_vector) + beta\n",
    "    return prob\n",
    "    \n",
    "\n",
    "def prob(start_vector,adjacency,alpha,beta,iteration):\n",
    "    for i in range(0,iteration):\n",
    "        start_vector = prob_calc(start_vector,adjacency,alpha,beta)\n",
    "        print(\"start_vector = \",prob_calc(start_vector,adjacency,alpha,beta))\n",
    "    return start_vector"
   ]
  },
  {
   "cell_type": "code",
   "execution_count": 73,
   "metadata": {
    "collapsed": false
   },
   "outputs": [
    {
     "name": "stdout",
     "output_type": "stream",
     "text": [
      "start_vector =  [ 0.49796875  1.32022569  0.86276042  0.575       1.35151042  0.92178819\n",
      "  1.47074653]\n",
      "start_vector =  [ 0.43719596  1.40587623  0.81691428  0.54301432  1.30566428  0.85390748\n",
      "  1.63742745]\n",
      "start_vector =  [ 0.42745366  1.40121906  0.84040154  0.5203578   1.30196371  0.89139144\n",
      "  1.61721279]\n",
      "start_vector =  [ 0.42666729  1.4133855   0.836352    0.51750119  1.27865613  0.88487758\n",
      "  1.6425603 ]\n",
      "start_vector =  [ 0.42171443  1.41695809  0.84135564  0.51238123  1.28123165  0.88710651\n",
      "  1.63925246]\n",
      "start_vector =  [ 0.42226173  1.41922147  0.8418215   0.51187604  1.27734555  0.88671659\n",
      "  1.64075713]\n",
      "start_vector =  [ 0.42143593  1.42016008  0.84289974  0.51116655  1.27799438  0.88631711\n",
      "  1.64002621]\n",
      "start_vector =  [ 0.42157381  1.42069401  0.84312317  0.51112894  1.27761473  0.8862479\n",
      "  1.63961745]\n",
      "start_vector =  [ 0.42149313  1.4207974   0.84337939  0.51107756  1.27783899  0.88605141\n",
      "  1.63936212]\n",
      "start_vector =  [ 0.42154078  1.4209257   0.84340619  0.51110807  1.27782212  0.88602672\n",
      "  1.63917041]\n",
      "start_vector =  [ 0.4215372   1.42090429  0.84347084  0.51111462  1.2779127   0.88596882\n",
      "  1.63909153]\n",
      "start_vector =  [ 0.42155645  1.42093614  0.84346098  0.5111331   1.2779084   0.88596572\n",
      "  1.63903921]\n",
      "start_vector =  [ 0.42155554  1.42091702  0.8434786   0.51113628  1.27794174  0.88594998\n",
      "  1.63902084]\n",
      "start_vector =  [ 0.42156262  1.4209266   0.84347029  0.51114317  1.27793612  0.88595186\n",
      "  1.63900934]\n",
      "start_vector =  [ 0.42156143  1.42091778  0.84347586  0.51114348  1.27794756  0.88594741\n",
      "  1.63900648]\n"
     ]
    }
   ],
   "source": [
    "pr = prob(start_vector,norm_adj,0.85,0.15,15)"
   ]
  },
  {
   "cell_type": "code",
   "execution_count": 68,
   "metadata": {
    "collapsed": false
   },
   "outputs": [
    {
     "data": {
      "text/plain": [
       "(array([ 1.00000000+0.j        ,  0.54331751+0.13772446j,\n",
       "         0.54331751-0.13772446j, -0.29187714+0.j        ,\n",
       "        -0.35629645+0.15733629j, -0.35629645-0.15733629j, -0.74883165+0.j        ]),\n",
       " array([[ 0.10199569+0.j        , -0.14375398+0.13338856j,\n",
       "         -0.14375398-0.13338856j,  0.44508548+0.j        ,\n",
       "          0.35717803+0.15772559j,  0.35717803-0.15772559j, -0.20659531+0.j        ],\n",
       "        [ 0.50997845+0.j        , -0.02291553-0.35767008j,\n",
       "         -0.02291553+0.35767008j, -0.04691750+0.j        ,\n",
       "         -0.12181508-0.21528796j, -0.12181508+0.21528796j, -0.54824145+0.j        ],\n",
       "        [ 0.28048815+0.j        , -0.14574795-0.23083159j,\n",
       "         -0.14574795+0.23083159j, -0.30085473+0.j        ,\n",
       "         -0.13741750+0.13076702j, -0.13741750-0.13076702j,  0.43503711+0.j        ],\n",
       "        [ 0.12749461+0.j        , -0.19128773+0.20681469j,\n",
       "         -0.19128773-0.20681469j,  0.06385874+0.j        ,\n",
       "          0.18835133-0.02749648j,  0.18835133+0.02749648j, -0.13762276+0.j        ],\n",
       "        [ 0.40798276+0.j        , -0.38589968+0.21069561j,\n",
       "         -0.38589968-0.21069561j, -0.51964111+0.j        ,\n",
       "         -0.60830889+0.j        , -0.60830889-0.j        ,  0.61882041+0.j        ],\n",
       "        [ 0.30598707+0.j        ,  0.23411700+0.03760281j,\n",
       "          0.23411700-0.03760281j, -0.25136341+0.j        ,\n",
       "         -0.05418153+0.29226588j, -0.05418153-0.29226588j, -0.24285482+0.j        ],\n",
       "        [ 0.61197414+0.j        ,  0.65548787+0.j        ,\n",
       "          0.65548787-0.j        ,  0.60983253+0.j        ,\n",
       "          0.37619364-0.33797405j,  0.37619364+0.33797405j,  0.08145682+0.j        ]]))"
      ]
     },
     "execution_count": 68,
     "metadata": {},
     "output_type": "execute_result"
    }
   ],
   "source": [
    "np.linalg.eig(norm_adj.T)"
   ]
  },
  {
   "cell_type": "code",
   "execution_count": 69,
   "metadata": {
    "collapsed": false
   },
   "outputs": [
    {
     "data": {
      "text/plain": [
       "16"
      ]
     },
     "execution_count": 69,
     "metadata": {},
     "output_type": "execute_result"
    }
   ],
   "source": [
    "pr_sdf.count()"
   ]
  },
  {
   "cell_type": "code",
   "execution_count": 76,
   "metadata": {
    "collapsed": false
   },
   "outputs": [],
   "source": [
    "pr = [{'node':1,'rank':0.4021771},{'node':2,'rank':1.32402396},{'node':3,'rank':0.79024068},\\\n",
    "     {'node':4,'rank':0.48692265},{'node':5,'rank':1.20051804},{'node':6,'rank':0.82781899},\\\n",
    "     {'node':7,'rank':1.52279205}]"
   ]
  },
  {
   "cell_type": "code",
   "execution_count": 77,
   "metadata": {
    "collapsed": false
   },
   "outputs": [],
   "source": [
    "schema = StructType([\n",
    "             StructField(\"node\", IntegerType(), True),\n",
    "             StructField(\"rank\", FloatType(), True)\n",
    "        ])"
   ]
  },
  {
   "cell_type": "code",
   "execution_count": 78,
   "metadata": {
    "collapsed": false
   },
   "outputs": [],
   "source": [
    "rank_sdf = spark.createDataFrame(pr,schema)"
   ]
  },
  {
   "cell_type": "markdown",
   "metadata": {},
   "source": [
    "## Step 5"
   ]
  },
  {
   "cell_type": "code",
   "execution_count": 81,
   "metadata": {
    "collapsed": false
   },
   "outputs": [
    {
     "data": {
      "text/plain": [
       "16"
      ]
     },
     "execution_count": 81,
     "metadata": {},
     "output_type": "execute_result"
    }
   ],
   "source": [
    "pr_sdf.count()"
   ]
  },
  {
   "cell_type": "code",
   "execution_count": 80,
   "metadata": {
    "collapsed": false
   },
   "outputs": [
    {
     "name": "stdout",
     "output_type": "stream",
     "text": [
      "+---------+-------+-------------------+\n",
      "|from_node|to_node|          timestamp|\n",
      "+---------+-------+-------------------+\n",
      "|        1|      2|1969-12-31 18:00:00|\n",
      "|        1|      3|1969-12-31 18:00:00|\n",
      "|        1|      4|1969-12-31 18:00:00|\n",
      "|        1|      5|1969-12-31 18:00:00|\n",
      "|        2|      3|1969-12-31 18:00:00|\n",
      "|        2|      5|1969-12-31 18:00:00|\n",
      "|        3|      2|1969-12-31 18:00:00|\n",
      "|        4|      5|1969-12-31 18:00:00|\n",
      "|        5|      1|1969-12-31 18:00:00|\n",
      "|        5|      6|1969-12-31 18:00:00|\n",
      "|        5|      7|1969-12-31 18:00:00|\n",
      "|        6|      7|1969-12-31 18:00:00|\n",
      "|        7|      6|1969-12-31 18:00:00|\n",
      "|        7|      2|1969-12-31 18:00:00|\n",
      "|        7|      7|1969-12-31 18:00:00|\n",
      "|        5|      4|1969-12-31 18:00:00|\n",
      "+---------+-------+-------------------+\n",
      "\n"
     ]
    }
   ],
   "source": [
    "pr_sdf.show()"
   ]
  },
  {
   "cell_type": "code",
   "execution_count": 79,
   "metadata": {
    "collapsed": false
   },
   "outputs": [
    {
     "name": "stdout",
     "output_type": "stream",
     "text": [
      "+----+----------+\n",
      "|node|      rank|\n",
      "+----+----------+\n",
      "|   1| 0.4021771|\n",
      "|   2|  1.324024|\n",
      "|   3| 0.7902407|\n",
      "|   4|0.48692265|\n",
      "|   5|  1.200518|\n",
      "|   6|  0.827819|\n",
      "|   7| 1.5227921|\n",
      "+----+----------+\n",
      "\n"
     ]
    }
   ],
   "source": [
    "rank_sdf.show()"
   ]
  },
  {
   "cell_type": "code",
   "execution_count": null,
   "metadata": {
    "collapsed": true
   },
   "outputs": [],
   "source": []
  }
 ],
 "metadata": {
  "kernelspec": {
   "display_name": "Python 3",
   "language": "python",
   "name": "python3"
  }
 },
 "nbformat": 4,
 "nbformat_minor": 2
}
