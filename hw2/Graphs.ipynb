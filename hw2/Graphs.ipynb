{
 "cells": [
  {
   "cell_type": "code",
   "execution_count": 2,
   "metadata": {
    "collapsed": false
   },
   "outputs": [],
   "source": [
    "import pyspark\n",
    "import os\n",
    "import pyspark\n",
    "import os\n",
    "del os.environ['PYSPARK_SUBMIT_ARGS']\n",
    "from pyspark.sql import SparkSession\n",
    "from pyspark.sql.functions import concat, col, lit\n",
    "from pyspark.sql.types import *\n",
    "import pyspark.sql.functions as F\n",
    "#spark = SparkSession.builder.appName('Graphs-HW2').getOrCreate()"
   ]
  },
  {
   "cell_type": "code",
   "execution_count": 3,
   "metadata": {
    "collapsed": true
   },
   "outputs": [],
   "source": [
    "from pyspark.sql.functions import lit"
   ]
  },
  {
   "cell_type": "code",
   "execution_count": 4,
   "metadata": {
    "collapsed": false
   },
   "outputs": [],
   "source": [
    "spark = SparkSession.builder.appName('Graphs-HW2').getOrCreate()"
   ]
  },
  {
   "cell_type": "code",
   "execution_count": 5,
   "metadata": {
    "collapsed": true
   },
   "outputs": [],
   "source": [
    "# Read lines from the text file\n",
    "answers_sdf = spark.read.load('sx-stackoverflow-a2q.txt', format=\"text\")\n",
    "comments_answers_sdf = spark.read.load('sx-stackoverflow-c2a.txt', format=\"text\")\n",
    "comments_questions_sdf = spark.read.load('sx-stackoverflow-c2q.txt', format=\"text\")"
   ]
  },
  {
   "cell_type": "markdown",
   "metadata": {},
   "source": [
    "## Step 2.2"
   ]
  },
  {
   "cell_type": "code",
   "execution_count": 7,
   "metadata": {
    "collapsed": false
   },
   "outputs": [
    {
     "data": {
      "text/plain": [
       "17823525"
      ]
     },
     "execution_count": 7,
     "metadata": {},
     "output_type": "execute_result"
    }
   ],
   "source": [
    "answers_sdf.count()"
   ]
  },
  {
   "cell_type": "code",
   "execution_count": 8,
   "metadata": {
    "collapsed": false
   },
   "outputs": [
    {
     "name": "stdout",
     "output_type": "stream",
     "text": [
      "+----------------+\n",
      "|           value|\n",
      "+----------------+\n",
      "|  9 8 1217567877|\n",
      "|  1 1 1217573801|\n",
      "| 13 1 1217606247|\n",
      "| 17 1 1217617639|\n",
      "| 48 2 1217618182|\n",
      "| 17 1 1217618239|\n",
      "| 19 9 1217618357|\n",
      "|13 23 1217618560|\n",
      "|13 11 1217618799|\n",
      "|23 23 1217619360|\n",
      "+----------------+\n",
      "only showing top 10 rows\n",
      "\n"
     ]
    }
   ],
   "source": [
    "answers_sdf.show(10)"
   ]
  },
  {
   "cell_type": "code",
   "execution_count": 9,
   "metadata": {
    "collapsed": false
   },
   "outputs": [
    {
     "name": "stdout",
     "output_type": "stream",
     "text": [
      "root\n",
      " |-- value: string (nullable = true)\n",
      "\n"
     ]
    }
   ],
   "source": [
    "answers_sdf.printSchema()"
   ]
  },
  {
   "cell_type": "code",
   "execution_count": 10,
   "metadata": {
    "collapsed": false
   },
   "outputs": [
    {
     "data": {
      "text/plain": [
       "25405374"
      ]
     },
     "execution_count": 10,
     "metadata": {},
     "output_type": "execute_result"
    }
   ],
   "source": [
    "comments_answers_sdf.count() "
   ]
  },
  {
   "cell_type": "code",
   "execution_count": 11,
   "metadata": {
    "collapsed": false
   },
   "outputs": [
    {
     "name": "stdout",
     "output_type": "stream",
     "text": [
      "+--------------------+\n",
      "|               value|\n",
      "+--------------------+\n",
      "|     1 91 1220713630|\n",
      "|     3 91 1220713792|\n",
      "|  380 350 1220715736|\n",
      "|4642 2257 1220734307|\n",
      "|4642 1324220 1220...|\n",
      "|2495 4285 1220736640|\n",
      "|4642 4893 1220737355|\n",
      "|2515 4903 1220738560|\n",
      "|2515 4893 1220739071|\n",
      "|  199 199 1220741079|\n",
      "+--------------------+\n",
      "only showing top 10 rows\n",
      "\n"
     ]
    }
   ],
   "source": [
    "comments_answers_sdf.show(10)"
   ]
  },
  {
   "cell_type": "code",
   "execution_count": 14,
   "metadata": {
    "collapsed": false
   },
   "outputs": [
    {
     "name": "stdout",
     "output_type": "stream",
     "text": [
      "root\n",
      " |-- value: string (nullable = true)\n",
      "\n"
     ]
    }
   ],
   "source": [
    "comments_answers_sdf.printSchema()"
   ]
  },
  {
   "cell_type": "code",
   "execution_count": 12,
   "metadata": {
    "collapsed": false
   },
   "outputs": [
    {
     "data": {
      "text/plain": [
       "20268151"
      ]
     },
     "execution_count": 12,
     "metadata": {},
     "output_type": "execute_result"
    }
   ],
   "source": [
    "comments_questions_sdf.count()"
   ]
  },
  {
   "cell_type": "code",
   "execution_count": 13,
   "metadata": {
    "collapsed": false
   },
   "outputs": [
    {
     "name": "stdout",
     "output_type": "stream",
     "text": [
      "+--------------------+\n",
      "|               value|\n",
      "+--------------------+\n",
      "|4550 4550 1220729190|\n",
      "|  242 184 1220733503|\n",
      "|4213 4946 1220768149|\n",
      "|    91 91 1220768295|\n",
      "|2658 1874 1220771891|\n",
      "|4035 1874 1220773037|\n",
      "|2257 4489 1220802041|\n",
      "|  577 577 1220834891|\n",
      "|4489 4489 1220853536|\n",
      "| 828 2783 1220854143|\n",
      "+--------------------+\n",
      "only showing top 10 rows\n",
      "\n"
     ]
    }
   ],
   "source": [
    "comments_questions_sdf.show(10)"
   ]
  },
  {
   "cell_type": "code",
   "execution_count": 14,
   "metadata": {
    "collapsed": false,
    "scrolled": true
   },
   "outputs": [
    {
     "name": "stdout",
     "output_type": "stream",
     "text": [
      "root\n",
      " |-- value: string (nullable = true)\n",
      "\n"
     ]
    }
   ],
   "source": [
    "comments_questions_sdf.printSchema()"
   ]
  },
  {
   "cell_type": "code",
   "execution_count": 7,
   "metadata": {
    "collapsed": true
   },
   "outputs": [],
   "source": [
    "comments_questions_sdf.createOrReplaceTempView('comments_questions')"
   ]
  },
  {
   "cell_type": "code",
   "execution_count": 8,
   "metadata": {
    "collapsed": false
   },
   "outputs": [],
   "source": [
    "comments_questions_sdf = spark.sql('select CAST(split(value, \" \")[0] AS integer) AS from_node,'\\\n",
    "                     'CAST(split(value, \" \")[1]  AS integer) AS to_node from comments_questions')"
   ]
  },
  {
   "cell_type": "code",
   "execution_count": 9,
   "metadata": {
    "collapsed": false
   },
   "outputs": [
    {
     "name": "stdout",
     "output_type": "stream",
     "text": [
      "+---------+-------+\n",
      "|from_node|to_node|\n",
      "+---------+-------+\n",
      "|     4550|   4550|\n",
      "|      242|    184|\n",
      "|     4213|   4946|\n",
      "|       91|     91|\n",
      "|     2658|   1874|\n",
      "|     4035|   1874|\n",
      "|     2257|   4489|\n",
      "|      577|    577|\n",
      "|     4489|   4489|\n",
      "|      828|   2783|\n",
      "+---------+-------+\n",
      "only showing top 10 rows\n",
      "\n"
     ]
    }
   ],
   "source": [
    "comments_questions_sdf.show(10)"
   ]
  },
  {
   "cell_type": "code",
   "execution_count": 21,
   "metadata": {
    "collapsed": true
   },
   "outputs": [],
   "source": [
    "comments_questions_sdf.createOrReplaceTempView('comments_questions')"
   ]
  },
  {
   "cell_type": "code",
   "execution_count": 22,
   "metadata": {
    "collapsed": false
   },
   "outputs": [],
   "source": [
    "comments_questions_sdf = comments_questions_sdf.withColumn('comment-on-question', F.lit('value'))"
   ]
  },
  {
   "cell_type": "code",
   "execution_count": 23,
   "metadata": {
    "collapsed": true
   },
   "outputs": [],
   "source": [
    "answers_sdf.createOrReplaceTempView('answers')"
   ]
  },
  {
   "cell_type": "code",
   "execution_count": 24,
   "metadata": {
    "collapsed": false
   },
   "outputs": [],
   "source": [
    "answers_sdf = spark.sql('select CAST(split(value, \" \")[0] AS integer) AS from_node,'\\\n",
    "                     'CAST(split(value, \" \")[1]  AS integer) AS to_node, from_unixtime(split(value, \" \")[2]) AS timestamp from answers')"
   ]
  },
  {
   "cell_type": "code",
   "execution_count": 25,
   "metadata": {
    "collapsed": true
   },
   "outputs": [],
   "source": [
    "answers_sdf = answers_sdf.withColumn('answer', F.lit('value'))"
   ]
  },
  {
   "cell_type": "code",
   "execution_count": 26,
   "metadata": {
    "collapsed": false
   },
   "outputs": [
    {
     "name": "stdout",
     "output_type": "stream",
     "text": [
      "+---------+-------+-------------------+------+\n",
      "|from_node|to_node|          timestamp|answer|\n",
      "+---------+-------+-------------------+------+\n",
      "|        9|      8|2008-08-01 01:17:57| value|\n",
      "|        1|      1|2008-08-01 02:56:41| value|\n",
      "|       13|      1|2008-08-01 11:57:27| value|\n",
      "|       17|      1|2008-08-01 15:07:19| value|\n",
      "|       48|      2|2008-08-01 15:16:22| value|\n",
      "|       17|      1|2008-08-01 15:17:19| value|\n",
      "|       19|      9|2008-08-01 15:19:17| value|\n",
      "|       13|     23|2008-08-01 15:22:40| value|\n",
      "|       13|     11|2008-08-01 15:26:39| value|\n",
      "|       23|     23|2008-08-01 15:36:00| value|\n",
      "+---------+-------+-------------------+------+\n",
      "only showing top 10 rows\n",
      "\n"
     ]
    }
   ],
   "source": [
    "answers_sdf.show(10)"
   ]
  },
  {
   "cell_type": "code",
   "execution_count": 27,
   "metadata": {
    "collapsed": false
   },
   "outputs": [
    {
     "name": "stdout",
     "output_type": "stream",
     "text": [
      "root\n",
      " |-- from_node: integer (nullable = true)\n",
      " |-- to_node: integer (nullable = true)\n",
      " |-- timestamp: string (nullable = true)\n",
      " |-- answer: string (nullable = false)\n",
      "\n"
     ]
    }
   ],
   "source": [
    "answers_sdf.printSchema()"
   ]
  },
  {
   "cell_type": "code",
   "execution_count": 28,
   "metadata": {
    "collapsed": true
   },
   "outputs": [],
   "source": [
    "comments_answers_sdf.createOrReplaceTempView('comments_answers')"
   ]
  },
  {
   "cell_type": "code",
   "execution_count": 29,
   "metadata": {
    "collapsed": true
   },
   "outputs": [],
   "source": [
    "comments_answers_sdf = spark.sql('select CAST(split(value, \" \")[0] AS integer) AS from_node,'\\\n",
    "                     'CAST(split(value, \" \")[1]  AS integer) AS to_node, from_unixtime(split(value, \" \")[2]) AS timestamp from comments_answers')"
   ]
  },
  {
   "cell_type": "code",
   "execution_count": 30,
   "metadata": {
    "collapsed": true
   },
   "outputs": [],
   "source": [
    "comments_answers_sdf = comments_answers_sdf.withColumn('comment-on-answer', F.lit('value'))"
   ]
  },
  {
   "cell_type": "code",
   "execution_count": 31,
   "metadata": {
    "collapsed": false
   },
   "outputs": [
    {
     "name": "stdout",
     "output_type": "stream",
     "text": [
      "+---------+-------+-------------------+-----------------+\n",
      "|from_node|to_node|          timestamp|comment-on-answer|\n",
      "+---------+-------+-------------------+-----------------+\n",
      "|        1|     91|2008-09-06 11:07:10|            value|\n",
      "|        3|     91|2008-09-06 11:09:52|            value|\n",
      "|      380|    350|2008-09-06 11:42:16|            value|\n",
      "|     4642|   2257|2008-09-06 16:51:47|            value|\n",
      "|     4642|1324220|2008-09-06 17:15:46|            value|\n",
      "|     2495|   4285|2008-09-06 17:30:40|            value|\n",
      "|     4642|   4893|2008-09-06 17:42:35|            value|\n",
      "|     2515|   4903|2008-09-06 18:02:40|            value|\n",
      "|     2515|   4893|2008-09-06 18:11:11|            value|\n",
      "|      199|    199|2008-09-06 18:44:39|            value|\n",
      "+---------+-------+-------------------+-----------------+\n",
      "only showing top 10 rows\n",
      "\n"
     ]
    }
   ],
   "source": [
    "comments_answers_sdf.show(10)"
   ]
  },
  {
   "cell_type": "code",
   "execution_count": 32,
   "metadata": {
    "collapsed": true
   },
   "outputs": [],
   "source": [
    "graph_sdf = answers_sdf.unionAll(comments_questions_sdf).unionAll(comments_answers_sdf)"
   ]
  },
  {
   "cell_type": "markdown",
   "metadata": {},
   "source": [
    "## Step 2.3"
   ]
  },
  {
   "cell_type": "code",
   "execution_count": 33,
   "metadata": {
    "collapsed": false
   },
   "outputs": [
    {
     "data": {
      "text/plain": [
       "17823525"
      ]
     },
     "execution_count": 33,
     "metadata": {},
     "output_type": "execute_result"
    }
   ],
   "source": [
    "answers_sdf.count()"
   ]
  },
  {
   "cell_type": "code",
   "execution_count": 34,
   "metadata": {
    "collapsed": false
   },
   "outputs": [
    {
     "name": "stdout",
     "output_type": "stream",
     "text": [
      "+---------+-------+-------------------+------+\n",
      "|from_node|to_node|          timestamp|answer|\n",
      "+---------+-------+-------------------+------+\n",
      "|        9|      8|2008-08-01 01:17:57| value|\n",
      "|        1|      1|2008-08-01 02:56:41| value|\n",
      "|       13|      1|2008-08-01 11:57:27| value|\n",
      "|       17|      1|2008-08-01 15:07:19| value|\n",
      "|       48|      2|2008-08-01 15:16:22| value|\n",
      "+---------+-------+-------------------+------+\n",
      "only showing top 5 rows\n",
      "\n"
     ]
    }
   ],
   "source": [
    "answers_sdf.show(5)"
   ]
  },
  {
   "cell_type": "code",
   "execution_count": 35,
   "metadata": {
    "collapsed": false
   },
   "outputs": [
    {
     "name": "stdout",
     "output_type": "stream",
     "text": [
      "root\n",
      " |-- from_node: integer (nullable = true)\n",
      " |-- to_node: integer (nullable = true)\n",
      " |-- timestamp: string (nullable = true)\n",
      " |-- answer: string (nullable = false)\n",
      "\n"
     ]
    }
   ],
   "source": [
    "answers_sdf.printSchema()"
   ]
  },
  {
   "cell_type": "code",
   "execution_count": 36,
   "metadata": {
    "collapsed": false
   },
   "outputs": [
    {
     "data": {
      "text/plain": [
       "25405374"
      ]
     },
     "execution_count": 36,
     "metadata": {},
     "output_type": "execute_result"
    }
   ],
   "source": [
    "comments_answers_sdf.count()"
   ]
  },
  {
   "cell_type": "code",
   "execution_count": 37,
   "metadata": {
    "collapsed": false
   },
   "outputs": [
    {
     "name": "stdout",
     "output_type": "stream",
     "text": [
      "+---------+-------+-------------------+-----------------+\n",
      "|from_node|to_node|          timestamp|comment-on-answer|\n",
      "+---------+-------+-------------------+-----------------+\n",
      "|        1|     91|2008-09-06 11:07:10|            value|\n",
      "|        3|     91|2008-09-06 11:09:52|            value|\n",
      "|      380|    350|2008-09-06 11:42:16|            value|\n",
      "|     4642|   2257|2008-09-06 16:51:47|            value|\n",
      "|     4642|1324220|2008-09-06 17:15:46|            value|\n",
      "+---------+-------+-------------------+-----------------+\n",
      "only showing top 5 rows\n",
      "\n"
     ]
    }
   ],
   "source": [
    "comments_answers_sdf.show(5)"
   ]
  },
  {
   "cell_type": "code",
   "execution_count": 38,
   "metadata": {
    "collapsed": false
   },
   "outputs": [
    {
     "name": "stdout",
     "output_type": "stream",
     "text": [
      "root\n",
      " |-- from_node: integer (nullable = true)\n",
      " |-- to_node: integer (nullable = true)\n",
      " |-- timestamp: string (nullable = true)\n",
      " |-- comment-on-answer: string (nullable = false)\n",
      "\n"
     ]
    }
   ],
   "source": [
    "comments_answers_sdf.printSchema()"
   ]
  },
  {
   "cell_type": "code",
   "execution_count": 39,
   "metadata": {
    "collapsed": false
   },
   "outputs": [
    {
     "data": {
      "text/plain": [
       "20268151"
      ]
     },
     "execution_count": 39,
     "metadata": {},
     "output_type": "execute_result"
    }
   ],
   "source": [
    "comments_questions_sdf.count()"
   ]
  },
  {
   "cell_type": "code",
   "execution_count": 40,
   "metadata": {
    "collapsed": false
   },
   "outputs": [
    {
     "name": "stdout",
     "output_type": "stream",
     "text": [
      "+---------+-------+-------------------+-------------------+\n",
      "|from_node|to_node|          timestamp|comment-on-question|\n",
      "+---------+-------+-------------------+-------------------+\n",
      "|     4550|   4550|2008-09-06 15:26:30|              value|\n",
      "|      242|    184|2008-09-06 16:38:23|              value|\n",
      "|     4213|   4946|2008-09-07 02:15:49|              value|\n",
      "|       91|     91|2008-09-07 02:18:15|              value|\n",
      "|     2658|   1874|2008-09-07 03:18:11|              value|\n",
      "+---------+-------+-------------------+-------------------+\n",
      "only showing top 5 rows\n",
      "\n"
     ]
    }
   ],
   "source": [
    "comments_questions_sdf.show(5)"
   ]
  },
  {
   "cell_type": "code",
   "execution_count": 41,
   "metadata": {
    "collapsed": false
   },
   "outputs": [
    {
     "name": "stdout",
     "output_type": "stream",
     "text": [
      "root\n",
      " |-- from_node: integer (nullable = true)\n",
      " |-- to_node: integer (nullable = true)\n",
      " |-- timestamp: string (nullable = true)\n",
      " |-- comment-on-question: string (nullable = false)\n",
      "\n"
     ]
    }
   ],
   "source": [
    "comments_questions_sdf.printSchema()"
   ]
  },
  {
   "cell_type": "code",
   "execution_count": 42,
   "metadata": {
    "collapsed": false
   },
   "outputs": [
    {
     "data": {
      "text/plain": [
       "63497050"
      ]
     },
     "execution_count": 42,
     "metadata": {},
     "output_type": "execute_result"
    }
   ],
   "source": [
    "graph_sdf.count()"
   ]
  },
  {
   "cell_type": "code",
   "execution_count": 43,
   "metadata": {
    "collapsed": false
   },
   "outputs": [
    {
     "name": "stdout",
     "output_type": "stream",
     "text": [
      "+---------+-------+-------------------+------+\n",
      "|from_node|to_node|          timestamp|answer|\n",
      "+---------+-------+-------------------+------+\n",
      "|        9|      8|2008-08-01 01:17:57| value|\n",
      "|        1|      1|2008-08-01 02:56:41| value|\n",
      "|       13|      1|2008-08-01 11:57:27| value|\n",
      "|       17|      1|2008-08-01 15:07:19| value|\n",
      "|       48|      2|2008-08-01 15:16:22| value|\n",
      "+---------+-------+-------------------+------+\n",
      "only showing top 5 rows\n",
      "\n"
     ]
    }
   ],
   "source": [
    "graph_sdf.show(5)\n"
   ]
  },
  {
   "cell_type": "code",
   "execution_count": 44,
   "metadata": {
    "collapsed": false
   },
   "outputs": [
    {
     "name": "stdout",
     "output_type": "stream",
     "text": [
      "root\n",
      " |-- from_node: integer (nullable = true)\n",
      " |-- to_node: integer (nullable = true)\n",
      " |-- timestamp: string (nullable = true)\n",
      " |-- answer: string (nullable = false)\n",
      "\n"
     ]
    }
   ],
   "source": [
    "graph_sdf.printSchema()"
   ]
  },
  {
   "cell_type": "code",
   "execution_count": 45,
   "metadata": {
    "collapsed": true
   },
   "outputs": [],
   "source": [
    "outdegree_sdf = graph_sdf.groupby(graph_sdf['from_node']).count()"
   ]
  },
  {
   "cell_type": "code",
   "execution_count": 46,
   "metadata": {
    "collapsed": false
   },
   "outputs": [
    {
     "name": "stdout",
     "output_type": "stream",
     "text": [
      "+---------+-----+\n",
      "|from_node|count|\n",
      "+---------+-----+\n",
      "|      463|   77|\n",
      "|     1088|  939|\n",
      "|     1238|   11|\n",
      "|     1645|   11|\n",
      "|     1580|   94|\n",
      "|     1959|  137|\n",
      "|     2659|   22|\n",
      "|     3175|   72|\n",
      "|     2122|  122|\n",
      "|     3997|   28|\n",
      "|     4101|    2|\n",
      "|     3749|    1|\n",
      "|     4900|   76|\n",
      "|     5156|   32|\n",
      "|      148|  100|\n",
      "|     6336|   61|\n",
      "|     7754|   85|\n",
      "|     8086|   17|\n",
      "|     6466|   22|\n",
      "|     9900|   66|\n",
      "+---------+-----+\n",
      "only showing top 20 rows\n",
      "\n"
     ]
    }
   ],
   "source": [
    "outdegree_sdf.show(20)"
   ]
  },
  {
   "cell_type": "code",
   "execution_count": 47,
   "metadata": {
    "collapsed": true
   },
   "outputs": [],
   "source": [
    "outdegree_sdf.createOrReplaceTempView('outdegree')"
   ]
  },
  {
   "cell_type": "code",
   "execution_count": 48,
   "metadata": {
    "collapsed": true
   },
   "outputs": [],
   "source": [
    "outdegree_sdf = spark.sql('SELECT from_node, count FROM outdegree ORDER BY count desc')"
   ]
  },
  {
   "cell_type": "code",
   "execution_count": 49,
   "metadata": {
    "collapsed": true
   },
   "outputs": [],
   "source": [
    "indegree_sdf = graph_sdf.groupby(graph_sdf['to_node']).count()"
   ]
  },
  {
   "cell_type": "code",
   "execution_count": 50,
   "metadata": {
    "collapsed": true
   },
   "outputs": [],
   "source": [
    "indegree_sdf.createOrReplaceTempView('indegree')"
   ]
  },
  {
   "cell_type": "code",
   "execution_count": 51,
   "metadata": {
    "collapsed": true
   },
   "outputs": [],
   "source": [
    "indegree_sdf = spark.sql('SELECT to_node, count FROM indegree ORDER BY count desc')"
   ]
  },
  {
   "cell_type": "markdown",
   "metadata": {},
   "source": [
    "## Step 3"
   ]
  },
  {
   "cell_type": "code",
   "execution_count": 52,
   "metadata": {
    "collapsed": false
   },
   "outputs": [
    {
     "name": "stdout",
     "output_type": "stream",
     "text": [
      "+-------+-----+\n",
      "|to_node|count|\n",
      "+-------+-----+\n",
      "|  22656|93143|\n",
      "| 548225|54410|\n",
      "|  29407|45824|\n",
      "| 157882|39576|\n",
      "|1144035|38909|\n",
      "+-------+-----+\n",
      "only showing top 5 rows\n",
      "\n"
     ]
    }
   ],
   "source": [
    "indegree_sdf.show(5)"
   ]
  },
  {
   "cell_type": "code",
   "execution_count": 53,
   "metadata": {
    "collapsed": false
   },
   "outputs": [
    {
     "name": "stdout",
     "output_type": "stream",
     "text": [
      "+---------+------+\n",
      "|from_node| count|\n",
      "+---------+------+\n",
      "|    22656|101663|\n",
      "|   505088| 65522|\n",
      "|    17034| 65260|\n",
      "|  1491895| 62746|\n",
      "|   100297| 54330|\n",
      "+---------+------+\n",
      "only showing top 5 rows\n",
      "\n"
     ]
    }
   ],
   "source": [
    "outdegree_sdf.show(5)"
   ]
  },
  {
   "cell_type": "code",
   "execution_count": 54,
   "metadata": {
    "collapsed": true
   },
   "outputs": [],
   "source": [
    "comments_answers_sdf.createOrReplaceTempView('comments_answers')"
   ]
  },
  {
   "cell_type": "code",
   "execution_count": 55,
   "metadata": {
    "collapsed": false
   },
   "outputs": [],
   "source": [
    "def spark_bfs(g_sdf,origin,depth):\n",
    "        schema = StructType([\n",
    "             StructField(\"node\", IntegerType(), True)\n",
    "        ])\n",
    "        schema2 = StructType([\n",
    "             StructField(\"node\", IntegerType(), True),\n",
    "             StructField(\"depth\", IntegerType(), True)\n",
    "        ])\n",
    "        g_sdf.createOrReplaceTempView('g_sdf')\n",
    "        finaldepths_sdf = spark.createDataFrame([],schema2)\n",
    "        for item in origin:\n",
    "             value = int(item[\"node\"])\n",
    "             #set visit_sdf to origin node\n",
    "             visit_sdf = spark.createDataFrame([item],schema)\n",
    "             #set frontier_sdf to to_node from origin (exclude pointing to self)\n",
    "             g2_sdf = g_sdf[g_sdf.from_node==value]\n",
    "             g2_sdf = g2_sdf[g_sdf.to_node!=value]\n",
    "             g2_sdf.createOrReplaceTempView('g2_sdf')\n",
    "             frontier_sdf = spark.sql('SELECT to_node as node FROM g2_sdf')\n",
    "             frontier_sdf.createOrReplaceTempView('frontier_sdf')\n",
    "             visit_sdf.createOrReplaceTempView('visit_sdf')\n",
    "             depths_sdf = spark.createDataFrame([{'node':item['node'],'depth':0}],schema2)\n",
    "             #iterative case\n",
    "             frontier_sdf.repartition(100, frontier_sdf.node)\n",
    "             for i in range(1,depth+1): \n",
    "                  #find distinct nodes from frontier (want distinct to prevent duplicate propagation)\n",
    "                  #for finding to_nodes (placed in results)\n",
    "                  result_sdf = spark.sql('SELECT DISTINCT node FROM frontier_sdf')\n",
    "                  result_sdf.createOrReplaceTempView('result_sdf')\n",
    "                  result_sdf = spark.sql('SELECT * FROM result_sdf f '\\\n",
    "                           'LEFT JOIN g_sdf g ON f.node == g.from_node').cache()\n",
    "                  result_sdf.createOrReplaceTempView('result_sdf')\n",
    "                  #remove those already visited\n",
    "                  result_sdf = spark.sql('SELECT * FROM result_sdf r '\\\n",
    "                           'LEFT JOIN visit_sdf v ON r.to_node == v.node '\\\n",
    "                           'WHERE v.node IS NULL').cache()\n",
    "                  #remove reflexive property (to_node == from_node)\n",
    "                  #this prevents a node from having multiple depths\n",
    "                  result_sdf = result_sdf[result_sdf.from_node != result_sdf.to_node]\n",
    "                  result_sdf.createOrReplaceTempView('result_sdf')\n",
    "                  result_sdf = result_sdf.filter(\"to_node is not null\").cache()\n",
    "                  #update visit to add current frontier\n",
    "                  visit_sdf = visit_sdf.unionAll(frontier_sdf).cache()\n",
    "                  #update depths to add current frontier\n",
    "                  depths_sdf = depths_sdf.unionAll(frontier_sdf.withColumn('depth', F.lit(i)))\n",
    "                  result_sdf.createOrReplaceTempView('result_sdf')\n",
    "                  #update frontier to to_node results, renamed node\n",
    "                  frontier_sdf = spark.sql('SELECT to_node as node from result_sdf').cache()\n",
    "                  frontier_sdf.createOrReplaceTempView('frontier_sdf')\n",
    "                  frontier_sdf.repartition(100, frontier_sdf.node)\n",
    "                  visit_sdf.repartition(100, visit_sdf.node)\n",
    "             finaldepths_sdf = finaldepths_sdf.unionAll(depths_sdf)\n",
    "                \n",
    "        return finaldepths_sdf"
   ]
  },
  {
   "cell_type": "code",
   "execution_count": 10,
   "metadata": {
    "collapsed": false
   },
   "outputs": [],
   "source": [
    "gt_list = [{'from_node':1,'to_node':2},{'from_node':6,'to_node':8},\\\n",
    "           {'from_node':1,'to_node':3},{'from_node':1,'to_node':4},\\\n",
    "           {'from_node':1,'to_node':5},{'from_node':1,'to_node':6},\\\n",
    "           {'from_node':1,'to_node':7},{'from_node':7,'to_node':9},\\\n",
    "           {'from_node':7,'to_node':7},{'from_node':8,'to_node':8},\\\n",
    "           {'from_node':7,'to_node':13},{'from_node':7,'to_node':14},\\\n",
    "           {'from_node':2,'to_node':9},{'from_node':5,'to_node':8},\\\n",
    "           {'from_node':6,'to_node':1},{'from_node':2,'to_node':10},\\\n",
    "           {'from_node':4,'to_node':10},{'from_node':10,'to_node':11},\\\n",
    "           {'from_node':11,'to_node':12},{'from_node':9,'to_node':1},\\\n",
    "           {'from_node':1,'to_node':1}]"
   ]
  },
  {
   "cell_type": "code",
   "execution_count": 11,
   "metadata": {
    "collapsed": true
   },
   "outputs": [],
   "source": [
    "schema3 = StructType([\n",
    "             StructField(\"from_node\", IntegerType(),True),\n",
    "             StructField(\"to_node\", IntegerType(), True)\n",
    "        ])\n",
    "gt_sdf = spark.createDataFrame(gt_list,schema3)"
   ]
  },
  {
   "cell_type": "code",
   "execution_count": 12,
   "metadata": {
    "collapsed": false
   },
   "outputs": [
    {
     "name": "stdout",
     "output_type": "stream",
     "text": [
      "+---------+-------+\n",
      "|from_node|to_node|\n",
      "+---------+-------+\n",
      "|        1|      2|\n",
      "|        6|      8|\n",
      "|        1|      3|\n",
      "|        1|      4|\n",
      "|        1|      5|\n",
      "|        1|      6|\n",
      "|        1|      7|\n",
      "|        7|      9|\n",
      "|        7|      7|\n",
      "|        8|      8|\n",
      "|        7|     13|\n",
      "|        7|     14|\n",
      "|        2|      9|\n",
      "|        5|      8|\n",
      "|        6|      1|\n",
      "|        2|     10|\n",
      "|        4|     10|\n",
      "|       10|     11|\n",
      "|       11|     12|\n",
      "|        9|      1|\n",
      "+---------+-------+\n",
      "only showing top 20 rows\n",
      "\n"
     ]
    }
   ],
   "source": [
    "gt_sdf.show()"
   ]
  },
  {
   "cell_type": "code",
   "execution_count": 59,
   "metadata": {
    "collapsed": true
   },
   "outputs": [],
   "source": [
    "origins2 = [{'node':4550},{'node': 242}]"
   ]
  },
  {
   "cell_type": "markdown",
   "metadata": {},
   "source": [
    "## Step 4.1"
   ]
  },
  {
   "cell_type": "code",
   "execution_count": 60,
   "metadata": {
    "collapsed": false
   },
   "outputs": [],
   "source": [
    "depth_sdf = spark_bfs(comments_questions_sdf,origins2,2)\n",
    "#depth_sdf.show()"
   ]
  },
  {
   "cell_type": "code",
   "execution_count": 61,
   "metadata": {
    "collapsed": false
   },
   "outputs": [
    {
     "name": "stdout",
     "output_type": "stream",
     "text": [
      "+-------+-----+\n",
      "|   node|depth|\n",
      "+-------+-----+\n",
      "|   4550|    0|\n",
      "|    242|    0|\n",
      "|    184|    1|\n",
      "|  45459|    1|\n",
      "|   1551|    1|\n",
      "|  67719|    1|\n",
      "| 451383|    1|\n",
      "|1139389|    1|\n",
      "| 633513|    1|\n",
      "| 602291|    1|\n",
      "|1619254|    1|\n",
      "| 171136|    1|\n",
      "|1940564|    1|\n",
      "|2605058|    1|\n",
      "|2705465|    1|\n",
      "|2495819|    1|\n",
      "| 818089|    1|\n",
      "|1684384|    1|\n",
      "|3047450|    1|\n",
      "|2332659|    1|\n",
      "+-------+-----+\n",
      "only showing top 20 rows\n",
      "\n"
     ]
    }
   ],
   "source": [
    "depth_sdf.show() #answer for graph traversal"
   ]
  },
  {
   "cell_type": "code",
   "execution_count": 62,
   "metadata": {
    "collapsed": false
   },
   "outputs": [
    {
     "data": {
      "text/plain": [
       "397"
      ]
     },
     "execution_count": 62,
     "metadata": {},
     "output_type": "execute_result"
    }
   ],
   "source": [
    "depth_sdf.count()  #46764"
   ]
  },
  {
   "cell_type": "code",
   "execution_count": 55,
   "metadata": {
    "collapsed": false
   },
   "outputs": [
    {
     "ename": "NameError",
     "evalue": "name 'spark_bfs' is not defined",
     "output_type": "error",
     "traceback": [
      "\u001b[0;31m---------------------------------------------------------------------------\u001b[0m",
      "\u001b[0;31mNameError\u001b[0m                                 Traceback (most recent call last)",
      "\u001b[0;32m<ipython-input-55-92945b5d38fe>\u001b[0m in \u001b[0;36m<module>\u001b[0;34m()\u001b[0m\n\u001b[0;32m----> 1\u001b[0;31m \u001b[0mtest_sdf\u001b[0m \u001b[0;34m=\u001b[0m \u001b[0mspark_bfs\u001b[0m\u001b[0;34m(\u001b[0m\u001b[0mgt_sdf\u001b[0m\u001b[0;34m,\u001b[0m\u001b[0;34m[\u001b[0m\u001b[0;34m{\u001b[0m\u001b[0;34m'node'\u001b[0m\u001b[0;34m:\u001b[0m\u001b[0;36m1\u001b[0m\u001b[0;34m}\u001b[0m\u001b[0;34m]\u001b[0m\u001b[0;34m,\u001b[0m\u001b[0;36m4\u001b[0m\u001b[0;34m)\u001b[0m \u001b[0;31m#toy model test\u001b[0m\u001b[0;34m\u001b[0m\u001b[0m\n\u001b[0m",
      "\u001b[0;31mNameError\u001b[0m: name 'spark_bfs' is not defined"
     ]
    }
   ],
   "source": [
    "test_sdf = spark_bfs(gt_sdf,[{'node':1}],4) #toy model test"
   ]
  },
  {
   "cell_type": "code",
   "execution_count": 65,
   "metadata": {
    "collapsed": false
   },
   "outputs": [
    {
     "name": "stdout",
     "output_type": "stream",
     "text": [
      "+----+-----+\n",
      "|node|depth|\n",
      "+----+-----+\n",
      "|   1|    0|\n",
      "|   2|    1|\n",
      "|   3|    1|\n",
      "|   4|    1|\n",
      "|   5|    1|\n",
      "|   6|    1|\n",
      "|   7|    1|\n",
      "|  13|    2|\n",
      "|   9|    2|\n",
      "|   9|    2|\n",
      "|   8|    2|\n",
      "|   8|    2|\n",
      "|  10|    2|\n",
      "|  10|    2|\n",
      "|  14|    2|\n",
      "|  11|    3|\n",
      "|  12|    4|\n",
      "+----+-----+\n",
      "\n"
     ]
    }
   ],
   "source": [
    "test_sdf.show()"
   ]
  },
  {
   "cell_type": "code",
   "execution_count": 66,
   "metadata": {
    "collapsed": false
   },
   "outputs": [
    {
     "name": "stdout",
     "output_type": "stream",
     "text": [
      "+----+-----+\n",
      "|node|depth|\n",
      "+----+-----+\n",
      "|   1|    0|\n",
      "+----+-----+\n",
      "\n"
     ]
    }
   ],
   "source": [
    "origin = test_sdf[test_sdf.depth == 0]\n",
    "origin.show()"
   ]
  },
  {
   "cell_type": "code",
   "execution_count": 67,
   "metadata": {
    "collapsed": false
   },
   "outputs": [],
   "source": [
    "def friend_rec(filtered_bfs_sdf,graph_sdf):\n",
    "    mod_sdf = filtered_bfs_sdf[filtered_bfs_sdf.depth == 2]\n",
    "    origin_sdf = filtered_bfs_sdf[filtered_bfs_sdf.depth == 0]\n",
    "    mod = mod_sdf.groupBy('node').count().collect()\n",
    "    schema4 = StructType([\n",
    "             StructField(\"node\", IntegerType(), True),\n",
    "             StructField(\"count\", IntegerType(), True)\n",
    "        ])\n",
    "    mod_sdf = spark.createDataFrame(mod,schema4)\n",
    "    mod_sdf.createOrReplaceTempView('mod_sdf')\n",
    "    #collect only nodes that are at depth 2 and have duplicates\n",
    "    mod_sdf = spark.sql('SELECT node from mod_sdf WHERE count > 1')\n",
    "    mod_sdf.createOrReplaceTempView('mod_sdf')\n",
    "    graph_sdf.createOrReplaceTempView('graph_sdf')\n",
    "    #find the to_node from the original graph from nodes of depth 2\n",
    "    result_sdf = spark.sql('SELECT * FROM mod_sdf f '\\\n",
    "                           'LEFT JOIN graph_sdf g ON f.node == g.from_node').cache()\n",
    "    result_sdf = result_sdf.withColumnRenamed('node', 'possible_friends')\n",
    "    origin_sdf.createOrReplaceTempView('origin_sdf')\n",
    "    result_sdf.createOrReplaceTempView('result_sdf')\n",
    "    #remove nodes that are not connected back to origin\n",
    "    result_sdf = spark.sql('SELECT * FROM result_sdf r '\\\n",
    "                           'LEFT JOIN origin_sdf o ON r.to_node == o.node '\\\n",
    "                           'WHERE o.node IS NULL').cache()\n",
    "    #result_sdf = result_sdf.filter(\"to_node is not null\").cache()\n",
    "    result_sdf.createOrReplaceTempView('result_sdf')\n",
    "    friends_sdf = spark.sql('SELECT DISTINCT possible_friends as node_2 from result_sdf').cache()\n",
    "    friends_sdf = friends_sdf.withColumn('node_1', F.lit(\"242 or 4550\"))\n",
    "    #final friends list should be: depth 2, duplicates, no link to origin\n",
    "    \n",
    "    return friends_sdf"
   ]
  },
  {
   "cell_type": "code",
   "execution_count": 68,
   "metadata": {
    "collapsed": false
   },
   "outputs": [],
   "source": [
    "friends_sdf = friend_rec(test_sdf,gt_sdf)"
   ]
  },
  {
   "cell_type": "code",
   "execution_count": 69,
   "metadata": {
    "collapsed": true
   },
   "outputs": [],
   "source": [
    "friends_sdf = friend_rec(depth_sdf,comments_questions_sdf)"
   ]
  },
  {
   "cell_type": "code",
   "execution_count": 70,
   "metadata": {
    "collapsed": true
   },
   "outputs": [],
   "source": [
    "depth_sdf.createOrReplaceTempView('depth_sdf')"
   ]
  },
  {
   "cell_type": "markdown",
   "metadata": {},
   "source": [
    "## Step 4.2"
   ]
  },
  {
   "cell_type": "code",
   "execution_count": 71,
   "metadata": {
    "collapsed": false
   },
   "outputs": [],
   "source": [
    "filtered_bfs_sdf = depth_sdf[depth_sdf.depth==2]"
   ]
  },
  {
   "cell_type": "code",
   "execution_count": 72,
   "metadata": {
    "collapsed": true
   },
   "outputs": [],
   "source": [
    "friends_sdf = friend_rec(depth_sdf,comments_questions_sdf) #filtering occurs within function"
   ]
  },
  {
   "cell_type": "code",
   "execution_count": 77,
   "metadata": {
    "collapsed": false
   },
   "outputs": [
    {
     "data": {
      "text/plain": [
       "42"
      ]
     },
     "execution_count": 77,
     "metadata": {},
     "output_type": "execute_result"
    }
   ],
   "source": [
    "friends_sdf.count()"
   ]
  },
  {
   "cell_type": "code",
   "execution_count": 73,
   "metadata": {
    "collapsed": false
   },
   "outputs": [
    {
     "name": "stdout",
     "output_type": "stream",
     "text": [
      "+-------+-----------+\n",
      "| node_2|     node_1|\n",
      "+-------+-----------+\n",
      "| 104015|242 or 4550|\n",
      "| 713813|242 or 4550|\n",
      "|4800193|242 or 4550|\n",
      "|  55503|242 or 4550|\n",
      "| 238419|242 or 4550|\n",
      "| 102427|242 or 4550|\n",
      "|  27483|242 or 4550|\n",
      "|2269511|242 or 4550|\n",
      "|4204628|242 or 4550|\n",
      "|4595831|242 or 4550|\n",
      "|  60602|242 or 4550|\n",
      "|  63775|242 or 4550|\n",
      "|  24872|242 or 4550|\n",
      "| 139605|242 or 4550|\n",
      "|  47550|242 or 4550|\n",
      "| 132640|242 or 4550|\n",
      "|1406214|242 or 4550|\n",
      "| 318811|242 or 4550|\n",
      "|3565829|242 or 4550|\n",
      "| 282194|242 or 4550|\n",
      "+-------+-----------+\n",
      "only showing top 20 rows\n",
      "\n"
     ]
    }
   ],
   "source": [
    "friends_sdf.show()"
   ]
  },
  {
   "cell_type": "code",
   "execution_count": 16,
   "metadata": {
    "collapsed": true
   },
   "outputs": [],
   "source": [
    "def transitive_closure(g_sdf,origins_sdf,depth):\n",
    "        schema2 = StructType([\n",
    "             StructField(\"node\", IntegerType(), True),\n",
    "        ])\n",
    "        g_sdf.createOrReplaceTempView('g_sdf')\n",
    "        origins_sdf.createOrReplaceTempView('origins_sdf')\n",
    "        finaldepths_sdf = spark.createDataFrame([],schema2)\n",
    "        #move fom_node in origins list to visited\n",
    "        visit_sdf = spark.sql('SELECT from_node as vnode FROM origins_sdf')\n",
    "        visit_sdf = visit_sdf.distinct()\n",
    "        frontier_sdf = spark.sql('SELECT to_node as node from origins_sdf').cache()\n",
    "        frontier_sdf.createOrReplaceTempView('frontier_sdf')\n",
    "        visit_sdf.createOrReplaceTempView('visit_sdf')\n",
    "        #remove from frontier nodes that are already visited\n",
    "        frontier_sdf = spark.sql('SELECT * FROM frontier_sdf f '\\\n",
    "                           'LEFT JOIN visit_sdf v ON f.node == v.vnode '\\\n",
    "                           'WHERE v.vnode IS NULL').cache()\n",
    "        frontier_sdf.createOrReplaceTempView('frontier_sdf')\n",
    "        frontier_sdf = spark.sql('SELECT node from frontier_sdf')\n",
    "        for i in range(0,depth):\n",
    "             frontier_sdf.createOrReplaceTempView('frontier_sdf')\n",
    "             visit_sdf.createOrReplaceTempView('visit_sdf')\n",
    "             result_sdf = spark.sql('SELECT DISTINCT node FROM frontier_sdf')\n",
    "             result_sdf.createOrReplaceTempView('result_sdf')\n",
    "             result_sdf = spark.sql('SELECT * FROM result_sdf r '\\\n",
    "                           'LEFT JOIN g_sdf g ON r.node == g.from_node').cache()\n",
    "             result_sdf.createOrReplaceTempView('result_sdf')\n",
    "             #remove those already visited\n",
    "             result_sdf = spark.sql('SELECT * FROM result_sdf r '\\\n",
    "                           'LEFT JOIN visit_sdf v ON r.to_node == v.vnode '\\\n",
    "                           'WHERE v.vnode IS NULL').cache()\n",
    "             #remove reflexive property (to_node == from_node)\n",
    "             #this prevents a node from having multiple depths\n",
    "             result_sdf.createOrReplaceTempView('result_sdf')\n",
    "             result_sdf = result_sdf[result_sdf.from_node != result_sdf.to_node]  \n",
    "             result_sdf.createOrReplaceTempView('result_sdf')\n",
    "             result_sdf = result_sdf.filter(\"to_node is not null\").cache()\n",
    "             visit_sdf.createOrReplaceTempView('visit_sdf')\n",
    "             frontier2_sdf = spark.sql('SELECT node as vnode from frontier_sdf')\n",
    "             frontier2_sdf.createOrReplaceTempView('frontier2_sdf')\n",
    "             visit_sdf = visit_sdf.unionAll(frontier2_sdf).cache()\n",
    "             visit_sdf = visit_sdf.distinct()\n",
    "             finaldepths_sdf.createOrReplaceTempView('finaldepths_sdf')\n",
    "             finaldepths_sdf = finaldepths_sdf.unionAll(frontier_sdf).cache()\n",
    "             finaldepths_sdf = finaldepths_sdf.distinct()\n",
    "             frontier_sdf = spark.sql('SELECT to_node as node from result_sdf').cache()\n",
    "             frontier_sdf.createOrReplaceTempView('frontier_sdf')\n",
    "             frontier_sdf.repartition(100, frontier_sdf.node)\n",
    "             visit_sdf.repartition(100, visit_sdf.vnode)\n",
    "                            \n",
    "        return finaldepths_sdf"
   ]
  },
  {
   "cell_type": "code",
   "execution_count": 22,
   "metadata": {
    "collapsed": false
   },
   "outputs": [],
   "source": [
    "comments_questions_sdf.createOrReplaceTempView('comments_questions_sdf')\n",
    "nodes_sdf = spark.sql('SELECT * FROM comments_questions_sdf g '\\\n",
    "                           'WHERE g.from_node < 8')"
   ]
  },
  {
   "cell_type": "code",
   "execution_count": 23,
   "metadata": {
    "collapsed": false
   },
   "outputs": [
    {
     "name": "stdout",
     "output_type": "stream",
     "text": [
      "+---------+-------+-------------------+\n",
      "|from_node|to_node|          timestamp|\n",
      "+---------+-------+-------------------+\n",
      "|        5|   4640|2008-09-17 05:31:33|\n",
      "|        5|   4640|2008-09-17 06:14:24|\n",
      "|        1|  14981|2008-09-17 11:43:58|\n",
      "|        1|   7952|2008-09-18 17:07:19|\n",
      "|        1|  17389|2008-09-19 11:39:26|\n",
      "|        1|   1853|2008-09-20 20:06:42|\n",
      "|        1|  20946|2008-09-30 02:06:42|\n",
      "|        3|     26|2008-10-06 16:08:59|\n",
      "|        1|   1768|2008-10-06 16:26:32|\n",
      "|        1|  25210|2008-10-09 02:20:01|\n",
      "|        5|      5|2008-10-09 18:34:34|\n",
      "|        3|   6932|2008-10-09 22:05:31|\n",
      "|        1|  17451|2008-10-16 14:27:05|\n",
      "|        1|  10157|2008-10-17 21:05:53|\n",
      "|        3|  28919|2008-10-18 05:27:52|\n",
      "|        1|  23458|2008-10-18 15:32:28|\n",
      "|        1|  17877|2008-10-19 16:41:57|\n",
      "|        3|  23072|2008-11-01 06:45:58|\n",
      "|        3|  11173|2008-11-01 07:00:48|\n",
      "|        3|  19856|2008-11-01 07:04:49|\n",
      "+---------+-------+-------------------+\n",
      "only showing top 20 rows\n",
      "\n"
     ]
    }
   ],
   "source": [
    "nodes_sdf.show()"
   ]
  },
  {
   "cell_type": "code",
   "execution_count": 60,
   "metadata": {
    "collapsed": false
   },
   "outputs": [
    {
     "name": "stdout",
     "output_type": "stream",
     "text": [
      "successful2\n",
      "successful 3\n",
      "successful 4\n",
      "successful 5\n",
      "successful 6\n",
      "successful2\n",
      "successful 3\n",
      "successful 4\n",
      "successful 5\n",
      "successful 6\n",
      "successful2\n",
      "successful 3\n",
      "successful 4\n",
      "successful 5\n",
      "successful 6\n"
     ]
    }
   ],
   "source": [
    "reachable_sdf = transitive_closure(comments_questions_sdf,nodes_sdf,3)"
   ]
  },
  {
   "cell_type": "code",
   "execution_count": 61,
   "metadata": {
    "collapsed": false
   },
   "outputs": [
    {
     "ename": "KeyboardInterrupt",
     "evalue": "",
     "output_type": "error",
     "traceback": [
      "\u001b[0;31m---------------------------------------------------------------------------\u001b[0m",
      "\u001b[0;31mKeyboardInterrupt\u001b[0m                         Traceback (most recent call last)",
      "\u001b[0;32m<ipython-input-61-a876cff4d8a2>\u001b[0m in \u001b[0;36m<module>\u001b[0;34m()\u001b[0m\n\u001b[0;32m----> 1\u001b[0;31m \u001b[0mreachable_sdf\u001b[0m\u001b[0;34m.\u001b[0m\u001b[0mshow\u001b[0m\u001b[0;34m(\u001b[0m\u001b[0;34m)\u001b[0m\u001b[0;34m\u001b[0m\u001b[0m\n\u001b[0m",
      "\u001b[0;32m/Users/nintendo/spark-2.1.0/python/pyspark/sql/dataframe.py\u001b[0m in \u001b[0;36mshow\u001b[0;34m(self, n, truncate)\u001b[0m\n\u001b[1;32m    316\u001b[0m         \"\"\"\n\u001b[1;32m    317\u001b[0m         \u001b[0;32mif\u001b[0m \u001b[0misinstance\u001b[0m\u001b[0;34m(\u001b[0m\u001b[0mtruncate\u001b[0m\u001b[0;34m,\u001b[0m \u001b[0mbool\u001b[0m\u001b[0;34m)\u001b[0m \u001b[0;32mand\u001b[0m \u001b[0mtruncate\u001b[0m\u001b[0;34m:\u001b[0m\u001b[0;34m\u001b[0m\u001b[0m\n\u001b[0;32m--> 318\u001b[0;31m             \u001b[0mprint\u001b[0m\u001b[0;34m(\u001b[0m\u001b[0mself\u001b[0m\u001b[0;34m.\u001b[0m\u001b[0m_jdf\u001b[0m\u001b[0;34m.\u001b[0m\u001b[0mshowString\u001b[0m\u001b[0;34m(\u001b[0m\u001b[0mn\u001b[0m\u001b[0;34m,\u001b[0m \u001b[0;36m20\u001b[0m\u001b[0;34m)\u001b[0m\u001b[0;34m)\u001b[0m\u001b[0;34m\u001b[0m\u001b[0m\n\u001b[0m\u001b[1;32m    319\u001b[0m         \u001b[0;32melse\u001b[0m\u001b[0;34m:\u001b[0m\u001b[0;34m\u001b[0m\u001b[0m\n\u001b[1;32m    320\u001b[0m             \u001b[0mprint\u001b[0m\u001b[0;34m(\u001b[0m\u001b[0mself\u001b[0m\u001b[0;34m.\u001b[0m\u001b[0m_jdf\u001b[0m\u001b[0;34m.\u001b[0m\u001b[0mshowString\u001b[0m\u001b[0;34m(\u001b[0m\u001b[0mn\u001b[0m\u001b[0;34m,\u001b[0m \u001b[0mint\u001b[0m\u001b[0;34m(\u001b[0m\u001b[0mtruncate\u001b[0m\u001b[0;34m)\u001b[0m\u001b[0;34m)\u001b[0m\u001b[0;34m)\u001b[0m\u001b[0;34m\u001b[0m\u001b[0m\n",
      "\u001b[0;32m/Users/nintendo/spark-2.1.0/python/lib/py4j-0.10.4-src.zip/py4j/java_gateway.py\u001b[0m in \u001b[0;36m__call__\u001b[0;34m(self, *args)\u001b[0m\n\u001b[1;32m   1129\u001b[0m             \u001b[0mproto\u001b[0m\u001b[0;34m.\u001b[0m\u001b[0mEND_COMMAND_PART\u001b[0m\u001b[0;34m\u001b[0m\u001b[0m\n\u001b[1;32m   1130\u001b[0m \u001b[0;34m\u001b[0m\u001b[0m\n\u001b[0;32m-> 1131\u001b[0;31m         \u001b[0manswer\u001b[0m \u001b[0;34m=\u001b[0m \u001b[0mself\u001b[0m\u001b[0;34m.\u001b[0m\u001b[0mgateway_client\u001b[0m\u001b[0;34m.\u001b[0m\u001b[0msend_command\u001b[0m\u001b[0;34m(\u001b[0m\u001b[0mcommand\u001b[0m\u001b[0;34m)\u001b[0m\u001b[0;34m\u001b[0m\u001b[0m\n\u001b[0m\u001b[1;32m   1132\u001b[0m         return_value = get_return_value(\n\u001b[1;32m   1133\u001b[0m             answer, self.gateway_client, self.target_id, self.name)\n",
      "\u001b[0;32m/Users/nintendo/spark-2.1.0/python/lib/py4j-0.10.4-src.zip/py4j/java_gateway.py\u001b[0m in \u001b[0;36msend_command\u001b[0;34m(self, command, retry, binary)\u001b[0m\n\u001b[1;32m    881\u001b[0m         \u001b[0mconnection\u001b[0m \u001b[0;34m=\u001b[0m \u001b[0mself\u001b[0m\u001b[0;34m.\u001b[0m\u001b[0m_get_connection\u001b[0m\u001b[0;34m(\u001b[0m\u001b[0;34m)\u001b[0m\u001b[0;34m\u001b[0m\u001b[0m\n\u001b[1;32m    882\u001b[0m         \u001b[0;32mtry\u001b[0m\u001b[0;34m:\u001b[0m\u001b[0;34m\u001b[0m\u001b[0m\n\u001b[0;32m--> 883\u001b[0;31m             \u001b[0mresponse\u001b[0m \u001b[0;34m=\u001b[0m \u001b[0mconnection\u001b[0m\u001b[0;34m.\u001b[0m\u001b[0msend_command\u001b[0m\u001b[0;34m(\u001b[0m\u001b[0mcommand\u001b[0m\u001b[0;34m)\u001b[0m\u001b[0;34m\u001b[0m\u001b[0m\n\u001b[0m\u001b[1;32m    884\u001b[0m             \u001b[0;32mif\u001b[0m \u001b[0mbinary\u001b[0m\u001b[0;34m:\u001b[0m\u001b[0;34m\u001b[0m\u001b[0m\n\u001b[1;32m    885\u001b[0m                 \u001b[0;32mreturn\u001b[0m \u001b[0mresponse\u001b[0m\u001b[0;34m,\u001b[0m \u001b[0mself\u001b[0m\u001b[0;34m.\u001b[0m\u001b[0m_create_connection_guard\u001b[0m\u001b[0;34m(\u001b[0m\u001b[0mconnection\u001b[0m\u001b[0;34m)\u001b[0m\u001b[0;34m\u001b[0m\u001b[0m\n",
      "\u001b[0;32m/Users/nintendo/spark-2.1.0/python/lib/py4j-0.10.4-src.zip/py4j/java_gateway.py\u001b[0m in \u001b[0;36msend_command\u001b[0;34m(self, command)\u001b[0m\n\u001b[1;32m   1026\u001b[0m \u001b[0;34m\u001b[0m\u001b[0m\n\u001b[1;32m   1027\u001b[0m         \u001b[0;32mtry\u001b[0m\u001b[0;34m:\u001b[0m\u001b[0;34m\u001b[0m\u001b[0m\n\u001b[0;32m-> 1028\u001b[0;31m             \u001b[0manswer\u001b[0m \u001b[0;34m=\u001b[0m \u001b[0msmart_decode\u001b[0m\u001b[0;34m(\u001b[0m\u001b[0mself\u001b[0m\u001b[0;34m.\u001b[0m\u001b[0mstream\u001b[0m\u001b[0;34m.\u001b[0m\u001b[0mreadline\u001b[0m\u001b[0;34m(\u001b[0m\u001b[0;34m)\u001b[0m\u001b[0;34m[\u001b[0m\u001b[0;34m:\u001b[0m\u001b[0;34m-\u001b[0m\u001b[0;36m1\u001b[0m\u001b[0;34m]\u001b[0m\u001b[0;34m)\u001b[0m\u001b[0;34m\u001b[0m\u001b[0m\n\u001b[0m\u001b[1;32m   1029\u001b[0m             \u001b[0mlogger\u001b[0m\u001b[0;34m.\u001b[0m\u001b[0mdebug\u001b[0m\u001b[0;34m(\u001b[0m\u001b[0;34m\"Answer received: {0}\"\u001b[0m\u001b[0;34m.\u001b[0m\u001b[0mformat\u001b[0m\u001b[0;34m(\u001b[0m\u001b[0manswer\u001b[0m\u001b[0;34m)\u001b[0m\u001b[0;34m)\u001b[0m\u001b[0;34m\u001b[0m\u001b[0m\n\u001b[1;32m   1030\u001b[0m             \u001b[0;32mif\u001b[0m \u001b[0manswer\u001b[0m\u001b[0;34m.\u001b[0m\u001b[0mstartswith\u001b[0m\u001b[0;34m(\u001b[0m\u001b[0mproto\u001b[0m\u001b[0;34m.\u001b[0m\u001b[0mRETURN_MESSAGE\u001b[0m\u001b[0;34m)\u001b[0m\u001b[0;34m:\u001b[0m\u001b[0;34m\u001b[0m\u001b[0m\n",
      "\u001b[0;32m/Library/Frameworks/Python.framework/Versions/3.5/lib/python3.5/socket.py\u001b[0m in \u001b[0;36mreadinto\u001b[0;34m(self, b)\u001b[0m\n\u001b[1;32m    573\u001b[0m         \u001b[0;32mwhile\u001b[0m \u001b[0;32mTrue\u001b[0m\u001b[0;34m:\u001b[0m\u001b[0;34m\u001b[0m\u001b[0m\n\u001b[1;32m    574\u001b[0m             \u001b[0;32mtry\u001b[0m\u001b[0;34m:\u001b[0m\u001b[0;34m\u001b[0m\u001b[0m\n\u001b[0;32m--> 575\u001b[0;31m                 \u001b[0;32mreturn\u001b[0m \u001b[0mself\u001b[0m\u001b[0;34m.\u001b[0m\u001b[0m_sock\u001b[0m\u001b[0;34m.\u001b[0m\u001b[0mrecv_into\u001b[0m\u001b[0;34m(\u001b[0m\u001b[0mb\u001b[0m\u001b[0;34m)\u001b[0m\u001b[0;34m\u001b[0m\u001b[0m\n\u001b[0m\u001b[1;32m    576\u001b[0m             \u001b[0;32mexcept\u001b[0m \u001b[0mtimeout\u001b[0m\u001b[0;34m:\u001b[0m\u001b[0;34m\u001b[0m\u001b[0m\n\u001b[1;32m    577\u001b[0m                 \u001b[0mself\u001b[0m\u001b[0;34m.\u001b[0m\u001b[0m_timeout_occurred\u001b[0m \u001b[0;34m=\u001b[0m \u001b[0;32mTrue\u001b[0m\u001b[0;34m\u001b[0m\u001b[0m\n",
      "\u001b[0;31mKeyboardInterrupt\u001b[0m: "
     ]
    }
   ],
   "source": [
    "reachable_sdf.show()"
   ]
  },
  {
   "cell_type": "code",
   "execution_count": 13,
   "metadata": {
    "collapsed": false
   },
   "outputs": [],
   "source": [
    "origin_sdf = gt_sdf[gt_sdf['from_node'] < 3]"
   ]
  },
  {
   "cell_type": "code",
   "execution_count": 14,
   "metadata": {
    "collapsed": false
   },
   "outputs": [
    {
     "name": "stdout",
     "output_type": "stream",
     "text": [
      "+---------+-------+\n",
      "|from_node|to_node|\n",
      "+---------+-------+\n",
      "|        1|      2|\n",
      "|        1|      3|\n",
      "|        1|      4|\n",
      "|        1|      5|\n",
      "|        1|      6|\n",
      "|        1|      7|\n",
      "|        2|      9|\n",
      "|        2|     10|\n",
      "|        1|      1|\n",
      "+---------+-------+\n",
      "\n"
     ]
    }
   ],
   "source": [
    "origin_sdf.show()"
   ]
  },
  {
   "cell_type": "code",
   "execution_count": 17,
   "metadata": {
    "collapsed": false
   },
   "outputs": [],
   "source": [
    "reachable_sdf = transitive_closure(gt_sdf,origin_sdf,2)"
   ]
  },
  {
   "cell_type": "code",
   "execution_count": 18,
   "metadata": {
    "collapsed": false
   },
   "outputs": [
    {
     "name": "stdout",
     "output_type": "stream",
     "text": [
      "+----+\n",
      "|node|\n",
      "+----+\n",
      "|  13|\n",
      "|   6|\n",
      "|   3|\n",
      "|   5|\n",
      "|   9|\n",
      "|   4|\n",
      "|   8|\n",
      "|   7|\n",
      "|  10|\n",
      "|  11|\n",
      "|  14|\n",
      "+----+\n",
      "\n"
     ]
    }
   ],
   "source": [
    "reachable_sdf.show()"
   ]
  },
  {
   "cell_type": "code",
   "execution_count": null,
   "metadata": {
    "collapsed": true
   },
   "outputs": [],
   "source": []
  }
 ],
 "metadata": {
  "kernelspec": {
   "display_name": "Python 3",
   "language": "python",
   "name": "python3"
  },
  "language_info": {
   "codemirror_mode": {
    "name": "ipython",
    "version": 3
   },
   "file_extension": ".py",
   "mimetype": "text/x-python",
   "name": "python",
   "nbconvert_exporter": "python",
   "pygments_lexer": "ipython3",
   "version": "3.5.2"
  }
 },
 "nbformat": 4,
 "nbformat_minor": 2
}
